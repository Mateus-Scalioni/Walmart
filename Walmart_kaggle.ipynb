{
  "cells": [
    {
      "cell_type": "markdown",
      "metadata": {
        "id": "view-in-github",
        "colab_type": "text"
      },
      "source": [
        "<a href=\"https://colab.research.google.com/github/Mateus-Scalioni/Walmart/blob/main/Walmart_kaggle.ipynb\" target=\"_parent\"><img src=\"https://colab.research.google.com/assets/colab-badge.svg\" alt=\"Open In Colab\"/></a>"
      ]
    },
    {
      "cell_type": "markdown",
      "metadata": {
        "id": "6WHhvnPWI_RW"
      },
      "source": [
        "##Importando as bibliotecas necessárias."
      ]
    },
    {
      "cell_type": "code",
      "execution_count": 190,
      "metadata": {
        "id": "Z4BlmpcRJJuA"
      },
      "outputs": [],
      "source": [
        "\n",
        "# Importando biblioteca necessária\n",
        "import io # bibliioteca que contem o comando para ler do GDrive\n",
        "import  pandas  as  pd  #Poderosa ferramenta de manipulação de análise de dados.\n",
        "import  numpy  as  np #Importante para operações matemáticas \n",
        "import matplotlib as plt #Matplotlibé uma biblioteca Python abrangente para visualização de dados.\n",
        "import  seaborn  as  sb #Uma interface de alto nível desenvolvida matplotlibpara desenhar gráficos estatísticos atraentes e informativos.\n",
        "\n",
        "# import importará todos os módulos, para importar apenas o necessário utilizamos from.\n",
        "from google.colab import files # biblioteca para ler o arquivo\n",
        "from datetime import date #classes para manipulação de datas \n",
        "from prophet import Prophet\n",
        "\n"
      ]
    },
    {
      "cell_type": "markdown",
      "metadata": {
        "id": "ALj7HX0MMwRQ"
      },
      "source": [
        "##Importando conjunto de dados\n",
        "\n"
      ]
    },
    {
      "cell_type": "code",
      "execution_count": null,
      "metadata": {
        "colab": {
          "base_uri": "https://localhost:8080/",
          "height": 73
        },
        "id": "IPHyM--3OGsx",
        "outputId": "b9c0698f-85d8-440e-f9c6-f2c2453e90f6"
      },
      "outputs": [
        {
          "output_type": "display_data",
          "data": {
            "text/plain": [
              "<IPython.core.display.HTML object>"
            ],
            "text/html": [
              "\n",
              "     <input type=\"file\" id=\"files-a5a1fc41-af39-463d-891e-2d5cc8dfd894\" name=\"files[]\" multiple disabled\n",
              "        style=\"border:none\" />\n",
              "     <output id=\"result-a5a1fc41-af39-463d-891e-2d5cc8dfd894\">\n",
              "      Upload widget is only available when the cell has been executed in the\n",
              "      current browser session. Please rerun this cell to enable.\n",
              "      </output>\n",
              "      <script>// Copyright 2017 Google LLC\n",
              "//\n",
              "// Licensed under the Apache License, Version 2.0 (the \"License\");\n",
              "// you may not use this file except in compliance with the License.\n",
              "// You may obtain a copy of the License at\n",
              "//\n",
              "//      http://www.apache.org/licenses/LICENSE-2.0\n",
              "//\n",
              "// Unless required by applicable law or agreed to in writing, software\n",
              "// distributed under the License is distributed on an \"AS IS\" BASIS,\n",
              "// WITHOUT WARRANTIES OR CONDITIONS OF ANY KIND, either express or implied.\n",
              "// See the License for the specific language governing permissions and\n",
              "// limitations under the License.\n",
              "\n",
              "/**\n",
              " * @fileoverview Helpers for google.colab Python module.\n",
              " */\n",
              "(function(scope) {\n",
              "function span(text, styleAttributes = {}) {\n",
              "  const element = document.createElement('span');\n",
              "  element.textContent = text;\n",
              "  for (const key of Object.keys(styleAttributes)) {\n",
              "    element.style[key] = styleAttributes[key];\n",
              "  }\n",
              "  return element;\n",
              "}\n",
              "\n",
              "// Max number of bytes which will be uploaded at a time.\n",
              "const MAX_PAYLOAD_SIZE = 100 * 1024;\n",
              "\n",
              "function _uploadFiles(inputId, outputId) {\n",
              "  const steps = uploadFilesStep(inputId, outputId);\n",
              "  const outputElement = document.getElementById(outputId);\n",
              "  // Cache steps on the outputElement to make it available for the next call\n",
              "  // to uploadFilesContinue from Python.\n",
              "  outputElement.steps = steps;\n",
              "\n",
              "  return _uploadFilesContinue(outputId);\n",
              "}\n",
              "\n",
              "// This is roughly an async generator (not supported in the browser yet),\n",
              "// where there are multiple asynchronous steps and the Python side is going\n",
              "// to poll for completion of each step.\n",
              "// This uses a Promise to block the python side on completion of each step,\n",
              "// then passes the result of the previous step as the input to the next step.\n",
              "function _uploadFilesContinue(outputId) {\n",
              "  const outputElement = document.getElementById(outputId);\n",
              "  const steps = outputElement.steps;\n",
              "\n",
              "  const next = steps.next(outputElement.lastPromiseValue);\n",
              "  return Promise.resolve(next.value.promise).then((value) => {\n",
              "    // Cache the last promise value to make it available to the next\n",
              "    // step of the generator.\n",
              "    outputElement.lastPromiseValue = value;\n",
              "    return next.value.response;\n",
              "  });\n",
              "}\n",
              "\n",
              "/**\n",
              " * Generator function which is called between each async step of the upload\n",
              " * process.\n",
              " * @param {string} inputId Element ID of the input file picker element.\n",
              " * @param {string} outputId Element ID of the output display.\n",
              " * @return {!Iterable<!Object>} Iterable of next steps.\n",
              " */\n",
              "function* uploadFilesStep(inputId, outputId) {\n",
              "  const inputElement = document.getElementById(inputId);\n",
              "  inputElement.disabled = false;\n",
              "\n",
              "  const outputElement = document.getElementById(outputId);\n",
              "  outputElement.innerHTML = '';\n",
              "\n",
              "  const pickedPromise = new Promise((resolve) => {\n",
              "    inputElement.addEventListener('change', (e) => {\n",
              "      resolve(e.target.files);\n",
              "    });\n",
              "  });\n",
              "\n",
              "  const cancel = document.createElement('button');\n",
              "  inputElement.parentElement.appendChild(cancel);\n",
              "  cancel.textContent = 'Cancel upload';\n",
              "  const cancelPromise = new Promise((resolve) => {\n",
              "    cancel.onclick = () => {\n",
              "      resolve(null);\n",
              "    };\n",
              "  });\n",
              "\n",
              "  // Wait for the user to pick the files.\n",
              "  const files = yield {\n",
              "    promise: Promise.race([pickedPromise, cancelPromise]),\n",
              "    response: {\n",
              "      action: 'starting',\n",
              "    }\n",
              "  };\n",
              "\n",
              "  cancel.remove();\n",
              "\n",
              "  // Disable the input element since further picks are not allowed.\n",
              "  inputElement.disabled = true;\n",
              "\n",
              "  if (!files) {\n",
              "    return {\n",
              "      response: {\n",
              "        action: 'complete',\n",
              "      }\n",
              "    };\n",
              "  }\n",
              "\n",
              "  for (const file of files) {\n",
              "    const li = document.createElement('li');\n",
              "    li.append(span(file.name, {fontWeight: 'bold'}));\n",
              "    li.append(span(\n",
              "        `(${file.type || 'n/a'}) - ${file.size} bytes, ` +\n",
              "        `last modified: ${\n",
              "            file.lastModifiedDate ? file.lastModifiedDate.toLocaleDateString() :\n",
              "                                    'n/a'} - `));\n",
              "    const percent = span('0% done');\n",
              "    li.appendChild(percent);\n",
              "\n",
              "    outputElement.appendChild(li);\n",
              "\n",
              "    const fileDataPromise = new Promise((resolve) => {\n",
              "      const reader = new FileReader();\n",
              "      reader.onload = (e) => {\n",
              "        resolve(e.target.result);\n",
              "      };\n",
              "      reader.readAsArrayBuffer(file);\n",
              "    });\n",
              "    // Wait for the data to be ready.\n",
              "    let fileData = yield {\n",
              "      promise: fileDataPromise,\n",
              "      response: {\n",
              "        action: 'continue',\n",
              "      }\n",
              "    };\n",
              "\n",
              "    // Use a chunked sending to avoid message size limits. See b/62115660.\n",
              "    let position = 0;\n",
              "    do {\n",
              "      const length = Math.min(fileData.byteLength - position, MAX_PAYLOAD_SIZE);\n",
              "      const chunk = new Uint8Array(fileData, position, length);\n",
              "      position += length;\n",
              "\n",
              "      const base64 = btoa(String.fromCharCode.apply(null, chunk));\n",
              "      yield {\n",
              "        response: {\n",
              "          action: 'append',\n",
              "          file: file.name,\n",
              "          data: base64,\n",
              "        },\n",
              "      };\n",
              "\n",
              "      let percentDone = fileData.byteLength === 0 ?\n",
              "          100 :\n",
              "          Math.round((position / fileData.byteLength) * 100);\n",
              "      percent.textContent = `${percentDone}% done`;\n",
              "\n",
              "    } while (position < fileData.byteLength);\n",
              "  }\n",
              "\n",
              "  // All done.\n",
              "  yield {\n",
              "    response: {\n",
              "      action: 'complete',\n",
              "    }\n",
              "  };\n",
              "}\n",
              "\n",
              "scope.google = scope.google || {};\n",
              "scope.google.colab = scope.google.colab || {};\n",
              "scope.google.colab._files = {\n",
              "  _uploadFiles,\n",
              "  _uploadFilesContinue,\n",
              "};\n",
              "})(self);\n",
              "</script> "
            ]
          },
          "metadata": {}
        },
        {
          "output_type": "stream",
          "name": "stdout",
          "text": [
            "Saving Walmart.csv to Walmart (1).csv\n"
          ]
        }
      ],
      "source": [
        "\n",
        "file_uploaded = files.upload() #upando a planilha e guardadndo a planilha numa variavel\n",
        "# Leitura do arquivo\n",
        "\n",
        "data = pd.read_csv(io.BytesIO( file_uploaded['Walmart.csv'] ) )\n"
      ]
    },
    {
      "cell_type": "markdown",
      "metadata": {
        "id": "ThwtllvD80Qt"
      },
      "source": []
    },
    {
      "cell_type": "code",
      "execution_count": null,
      "metadata": {
        "colab": {
          "base_uri": "https://localhost:8080/",
          "height": 73
        },
        "id": "LBE7gsg180A8",
        "outputId": "f2031d85-f1aa-474b-9268-4b4c00265b8c"
      },
      "outputs": [
        {
          "output_type": "display_data",
          "data": {
            "text/plain": [
              "<IPython.core.display.HTML object>"
            ],
            "text/html": [
              "\n",
              "     <input type=\"file\" id=\"files-e901379f-6dcb-41df-9b7c-8476e5b06bd0\" name=\"files[]\" multiple disabled\n",
              "        style=\"border:none\" />\n",
              "     <output id=\"result-e901379f-6dcb-41df-9b7c-8476e5b06bd0\">\n",
              "      Upload widget is only available when the cell has been executed in the\n",
              "      current browser session. Please rerun this cell to enable.\n",
              "      </output>\n",
              "      <script>// Copyright 2017 Google LLC\n",
              "//\n",
              "// Licensed under the Apache License, Version 2.0 (the \"License\");\n",
              "// you may not use this file except in compliance with the License.\n",
              "// You may obtain a copy of the License at\n",
              "//\n",
              "//      http://www.apache.org/licenses/LICENSE-2.0\n",
              "//\n",
              "// Unless required by applicable law or agreed to in writing, software\n",
              "// distributed under the License is distributed on an \"AS IS\" BASIS,\n",
              "// WITHOUT WARRANTIES OR CONDITIONS OF ANY KIND, either express or implied.\n",
              "// See the License for the specific language governing permissions and\n",
              "// limitations under the License.\n",
              "\n",
              "/**\n",
              " * @fileoverview Helpers for google.colab Python module.\n",
              " */\n",
              "(function(scope) {\n",
              "function span(text, styleAttributes = {}) {\n",
              "  const element = document.createElement('span');\n",
              "  element.textContent = text;\n",
              "  for (const key of Object.keys(styleAttributes)) {\n",
              "    element.style[key] = styleAttributes[key];\n",
              "  }\n",
              "  return element;\n",
              "}\n",
              "\n",
              "// Max number of bytes which will be uploaded at a time.\n",
              "const MAX_PAYLOAD_SIZE = 100 * 1024;\n",
              "\n",
              "function _uploadFiles(inputId, outputId) {\n",
              "  const steps = uploadFilesStep(inputId, outputId);\n",
              "  const outputElement = document.getElementById(outputId);\n",
              "  // Cache steps on the outputElement to make it available for the next call\n",
              "  // to uploadFilesContinue from Python.\n",
              "  outputElement.steps = steps;\n",
              "\n",
              "  return _uploadFilesContinue(outputId);\n",
              "}\n",
              "\n",
              "// This is roughly an async generator (not supported in the browser yet),\n",
              "// where there are multiple asynchronous steps and the Python side is going\n",
              "// to poll for completion of each step.\n",
              "// This uses a Promise to block the python side on completion of each step,\n",
              "// then passes the result of the previous step as the input to the next step.\n",
              "function _uploadFilesContinue(outputId) {\n",
              "  const outputElement = document.getElementById(outputId);\n",
              "  const steps = outputElement.steps;\n",
              "\n",
              "  const next = steps.next(outputElement.lastPromiseValue);\n",
              "  return Promise.resolve(next.value.promise).then((value) => {\n",
              "    // Cache the last promise value to make it available to the next\n",
              "    // step of the generator.\n",
              "    outputElement.lastPromiseValue = value;\n",
              "    return next.value.response;\n",
              "  });\n",
              "}\n",
              "\n",
              "/**\n",
              " * Generator function which is called between each async step of the upload\n",
              " * process.\n",
              " * @param {string} inputId Element ID of the input file picker element.\n",
              " * @param {string} outputId Element ID of the output display.\n",
              " * @return {!Iterable<!Object>} Iterable of next steps.\n",
              " */\n",
              "function* uploadFilesStep(inputId, outputId) {\n",
              "  const inputElement = document.getElementById(inputId);\n",
              "  inputElement.disabled = false;\n",
              "\n",
              "  const outputElement = document.getElementById(outputId);\n",
              "  outputElement.innerHTML = '';\n",
              "\n",
              "  const pickedPromise = new Promise((resolve) => {\n",
              "    inputElement.addEventListener('change', (e) => {\n",
              "      resolve(e.target.files);\n",
              "    });\n",
              "  });\n",
              "\n",
              "  const cancel = document.createElement('button');\n",
              "  inputElement.parentElement.appendChild(cancel);\n",
              "  cancel.textContent = 'Cancel upload';\n",
              "  const cancelPromise = new Promise((resolve) => {\n",
              "    cancel.onclick = () => {\n",
              "      resolve(null);\n",
              "    };\n",
              "  });\n",
              "\n",
              "  // Wait for the user to pick the files.\n",
              "  const files = yield {\n",
              "    promise: Promise.race([pickedPromise, cancelPromise]),\n",
              "    response: {\n",
              "      action: 'starting',\n",
              "    }\n",
              "  };\n",
              "\n",
              "  cancel.remove();\n",
              "\n",
              "  // Disable the input element since further picks are not allowed.\n",
              "  inputElement.disabled = true;\n",
              "\n",
              "  if (!files) {\n",
              "    return {\n",
              "      response: {\n",
              "        action: 'complete',\n",
              "      }\n",
              "    };\n",
              "  }\n",
              "\n",
              "  for (const file of files) {\n",
              "    const li = document.createElement('li');\n",
              "    li.append(span(file.name, {fontWeight: 'bold'}));\n",
              "    li.append(span(\n",
              "        `(${file.type || 'n/a'}) - ${file.size} bytes, ` +\n",
              "        `last modified: ${\n",
              "            file.lastModifiedDate ? file.lastModifiedDate.toLocaleDateString() :\n",
              "                                    'n/a'} - `));\n",
              "    const percent = span('0% done');\n",
              "    li.appendChild(percent);\n",
              "\n",
              "    outputElement.appendChild(li);\n",
              "\n",
              "    const fileDataPromise = new Promise((resolve) => {\n",
              "      const reader = new FileReader();\n",
              "      reader.onload = (e) => {\n",
              "        resolve(e.target.result);\n",
              "      };\n",
              "      reader.readAsArrayBuffer(file);\n",
              "    });\n",
              "    // Wait for the data to be ready.\n",
              "    let fileData = yield {\n",
              "      promise: fileDataPromise,\n",
              "      response: {\n",
              "        action: 'continue',\n",
              "      }\n",
              "    };\n",
              "\n",
              "    // Use a chunked sending to avoid message size limits. See b/62115660.\n",
              "    let position = 0;\n",
              "    do {\n",
              "      const length = Math.min(fileData.byteLength - position, MAX_PAYLOAD_SIZE);\n",
              "      const chunk = new Uint8Array(fileData, position, length);\n",
              "      position += length;\n",
              "\n",
              "      const base64 = btoa(String.fromCharCode.apply(null, chunk));\n",
              "      yield {\n",
              "        response: {\n",
              "          action: 'append',\n",
              "          file: file.name,\n",
              "          data: base64,\n",
              "        },\n",
              "      };\n",
              "\n",
              "      let percentDone = fileData.byteLength === 0 ?\n",
              "          100 :\n",
              "          Math.round((position / fileData.byteLength) * 100);\n",
              "      percent.textContent = `${percentDone}% done`;\n",
              "\n",
              "    } while (position < fileData.byteLength);\n",
              "  }\n",
              "\n",
              "  // All done.\n",
              "  yield {\n",
              "    response: {\n",
              "      action: 'complete',\n",
              "    }\n",
              "  };\n",
              "}\n",
              "\n",
              "scope.google = scope.google || {};\n",
              "scope.google.colab = scope.google.colab || {};\n",
              "scope.google.colab._files = {\n",
              "  _uploadFiles,\n",
              "  _uploadFilesContinue,\n",
              "};\n",
              "})(self);\n",
              "</script> "
            ]
          },
          "metadata": {}
        },
        {
          "output_type": "stream",
          "name": "stdout",
          "text": [
            "Saving train.csv to train (1).csv\n"
          ]
        }
      ],
      "source": [
        "\n",
        "file_uploaded = files.upload() #upando a planilha e guardadndo a planilha numa variavel\n",
        "# Leitura do arquivo\n",
        "\n",
        "dep = pd.read_csv(io.BytesIO( file_uploaded['train.csv'] ) )\n"
      ]
    },
    {
      "cell_type": "markdown",
      "metadata": {
        "id": "STcyxJ34QIpz"
      },
      "source": [
        "##Inspecionando os dados"
      ]
    },
    {
      "cell_type": "code",
      "execution_count": null,
      "metadata": {
        "colab": {
          "base_uri": "https://localhost:8080/"
        },
        "id": "X_gkE0vgDjUd",
        "outputId": "3b34363f-2209-4bed-9a43-a73d9f5dd593"
      },
      "outputs": [
        {
          "output_type": "execute_result",
          "data": {
            "text/plain": [
              "(6435, 8)"
            ]
          },
          "metadata": {},
          "execution_count": 48
        }
      ],
      "source": [
        "data.shape"
      ]
    },
    {
      "cell_type": "code",
      "execution_count": null,
      "metadata": {
        "colab": {
          "base_uri": "https://localhost:8080/",
          "height": 206
        },
        "id": "CL6qXtpeQH2k",
        "outputId": "357e7d4d-ceae-4ffa-8dcc-438d94e24112"
      },
      "outputs": [
        {
          "output_type": "execute_result",
          "data": {
            "text/plain": [
              "   Store        Date  Weekly_Sales  Holiday_Flag  Temperature  Fuel_Price  \\\n",
              "0      1  05-02-2010    1643690.90             0        42.31       2.572   \n",
              "1      1  12-02-2010    1641957.44             1        38.51       2.548   \n",
              "2      1  19-02-2010    1611968.17             0        39.93       2.514   \n",
              "3      1  26-02-2010    1409727.59             0        46.63       2.561   \n",
              "4      1  05-03-2010    1554806.68             0        46.50       2.625   \n",
              "\n",
              "          CPI  Unemployment  \n",
              "0  211.096358         8.106  \n",
              "1  211.242170         8.106  \n",
              "2  211.289143         8.106  \n",
              "3  211.319643         8.106  \n",
              "4  211.350143         8.106  "
            ],
            "text/html": [
              "\n",
              "  <div id=\"df-a967d159-b4b7-4091-b170-5e75c2eb4ba7\">\n",
              "    <div class=\"colab-df-container\">\n",
              "      <div>\n",
              "<style scoped>\n",
              "    .dataframe tbody tr th:only-of-type {\n",
              "        vertical-align: middle;\n",
              "    }\n",
              "\n",
              "    .dataframe tbody tr th {\n",
              "        vertical-align: top;\n",
              "    }\n",
              "\n",
              "    .dataframe thead th {\n",
              "        text-align: right;\n",
              "    }\n",
              "</style>\n",
              "<table border=\"1\" class=\"dataframe\">\n",
              "  <thead>\n",
              "    <tr style=\"text-align: right;\">\n",
              "      <th></th>\n",
              "      <th>Store</th>\n",
              "      <th>Date</th>\n",
              "      <th>Weekly_Sales</th>\n",
              "      <th>Holiday_Flag</th>\n",
              "      <th>Temperature</th>\n",
              "      <th>Fuel_Price</th>\n",
              "      <th>CPI</th>\n",
              "      <th>Unemployment</th>\n",
              "    </tr>\n",
              "  </thead>\n",
              "  <tbody>\n",
              "    <tr>\n",
              "      <th>0</th>\n",
              "      <td>1</td>\n",
              "      <td>05-02-2010</td>\n",
              "      <td>1643690.90</td>\n",
              "      <td>0</td>\n",
              "      <td>42.31</td>\n",
              "      <td>2.572</td>\n",
              "      <td>211.096358</td>\n",
              "      <td>8.106</td>\n",
              "    </tr>\n",
              "    <tr>\n",
              "      <th>1</th>\n",
              "      <td>1</td>\n",
              "      <td>12-02-2010</td>\n",
              "      <td>1641957.44</td>\n",
              "      <td>1</td>\n",
              "      <td>38.51</td>\n",
              "      <td>2.548</td>\n",
              "      <td>211.242170</td>\n",
              "      <td>8.106</td>\n",
              "    </tr>\n",
              "    <tr>\n",
              "      <th>2</th>\n",
              "      <td>1</td>\n",
              "      <td>19-02-2010</td>\n",
              "      <td>1611968.17</td>\n",
              "      <td>0</td>\n",
              "      <td>39.93</td>\n",
              "      <td>2.514</td>\n",
              "      <td>211.289143</td>\n",
              "      <td>8.106</td>\n",
              "    </tr>\n",
              "    <tr>\n",
              "      <th>3</th>\n",
              "      <td>1</td>\n",
              "      <td>26-02-2010</td>\n",
              "      <td>1409727.59</td>\n",
              "      <td>0</td>\n",
              "      <td>46.63</td>\n",
              "      <td>2.561</td>\n",
              "      <td>211.319643</td>\n",
              "      <td>8.106</td>\n",
              "    </tr>\n",
              "    <tr>\n",
              "      <th>4</th>\n",
              "      <td>1</td>\n",
              "      <td>05-03-2010</td>\n",
              "      <td>1554806.68</td>\n",
              "      <td>0</td>\n",
              "      <td>46.50</td>\n",
              "      <td>2.625</td>\n",
              "      <td>211.350143</td>\n",
              "      <td>8.106</td>\n",
              "    </tr>\n",
              "  </tbody>\n",
              "</table>\n",
              "</div>\n",
              "      <button class=\"colab-df-convert\" onclick=\"convertToInteractive('df-a967d159-b4b7-4091-b170-5e75c2eb4ba7')\"\n",
              "              title=\"Convert this dataframe to an interactive table.\"\n",
              "              style=\"display:none;\">\n",
              "        \n",
              "  <svg xmlns=\"http://www.w3.org/2000/svg\" height=\"24px\"viewBox=\"0 0 24 24\"\n",
              "       width=\"24px\">\n",
              "    <path d=\"M0 0h24v24H0V0z\" fill=\"none\"/>\n",
              "    <path d=\"M18.56 5.44l.94 2.06.94-2.06 2.06-.94-2.06-.94-.94-2.06-.94 2.06-2.06.94zm-11 1L8.5 8.5l.94-2.06 2.06-.94-2.06-.94L8.5 2.5l-.94 2.06-2.06.94zm10 10l.94 2.06.94-2.06 2.06-.94-2.06-.94-.94-2.06-.94 2.06-2.06.94z\"/><path d=\"M17.41 7.96l-1.37-1.37c-.4-.4-.92-.59-1.43-.59-.52 0-1.04.2-1.43.59L10.3 9.45l-7.72 7.72c-.78.78-.78 2.05 0 2.83L4 21.41c.39.39.9.59 1.41.59.51 0 1.02-.2 1.41-.59l7.78-7.78 2.81-2.81c.8-.78.8-2.07 0-2.86zM5.41 20L4 18.59l7.72-7.72 1.47 1.35L5.41 20z\"/>\n",
              "  </svg>\n",
              "      </button>\n",
              "      \n",
              "  <style>\n",
              "    .colab-df-container {\n",
              "      display:flex;\n",
              "      flex-wrap:wrap;\n",
              "      gap: 12px;\n",
              "    }\n",
              "\n",
              "    .colab-df-convert {\n",
              "      background-color: #E8F0FE;\n",
              "      border: none;\n",
              "      border-radius: 50%;\n",
              "      cursor: pointer;\n",
              "      display: none;\n",
              "      fill: #1967D2;\n",
              "      height: 32px;\n",
              "      padding: 0 0 0 0;\n",
              "      width: 32px;\n",
              "    }\n",
              "\n",
              "    .colab-df-convert:hover {\n",
              "      background-color: #E2EBFA;\n",
              "      box-shadow: 0px 1px 2px rgba(60, 64, 67, 0.3), 0px 1px 3px 1px rgba(60, 64, 67, 0.15);\n",
              "      fill: #174EA6;\n",
              "    }\n",
              "\n",
              "    [theme=dark] .colab-df-convert {\n",
              "      background-color: #3B4455;\n",
              "      fill: #D2E3FC;\n",
              "    }\n",
              "\n",
              "    [theme=dark] .colab-df-convert:hover {\n",
              "      background-color: #434B5C;\n",
              "      box-shadow: 0px 1px 3px 1px rgba(0, 0, 0, 0.15);\n",
              "      filter: drop-shadow(0px 1px 2px rgba(0, 0, 0, 0.3));\n",
              "      fill: #FFFFFF;\n",
              "    }\n",
              "  </style>\n",
              "\n",
              "      <script>\n",
              "        const buttonEl =\n",
              "          document.querySelector('#df-a967d159-b4b7-4091-b170-5e75c2eb4ba7 button.colab-df-convert');\n",
              "        buttonEl.style.display =\n",
              "          google.colab.kernel.accessAllowed ? 'block' : 'none';\n",
              "\n",
              "        async function convertToInteractive(key) {\n",
              "          const element = document.querySelector('#df-a967d159-b4b7-4091-b170-5e75c2eb4ba7');\n",
              "          const dataTable =\n",
              "            await google.colab.kernel.invokeFunction('convertToInteractive',\n",
              "                                                     [key], {});\n",
              "          if (!dataTable) return;\n",
              "\n",
              "          const docLinkHtml = 'Like what you see? Visit the ' +\n",
              "            '<a target=\"_blank\" href=https://colab.research.google.com/notebooks/data_table.ipynb>data table notebook</a>'\n",
              "            + ' to learn more about interactive tables.';\n",
              "          element.innerHTML = '';\n",
              "          dataTable['output_type'] = 'display_data';\n",
              "          await google.colab.output.renderOutput(dataTable, element);\n",
              "          const docLink = document.createElement('div');\n",
              "          docLink.innerHTML = docLinkHtml;\n",
              "          element.appendChild(docLink);\n",
              "        }\n",
              "      </script>\n",
              "    </div>\n",
              "  </div>\n",
              "  "
            ]
          },
          "metadata": {},
          "execution_count": 49
        }
      ],
      "source": [
        "data.head()\n",
        "#vizualizar 5 primeiras linhas \n"
      ]
    },
    {
      "cell_type": "code",
      "execution_count": null,
      "metadata": {
        "colab": {
          "base_uri": "https://localhost:8080/"
        },
        "id": "94r2i5vpQrGV",
        "outputId": "2e8c5b3e-aa7a-472a-93e0-0e1d64210533"
      },
      "outputs": [
        {
          "output_type": "stream",
          "name": "stdout",
          "text": [
            "<class 'pandas.core.frame.DataFrame'>\n",
            "RangeIndex: 6435 entries, 0 to 6434\n",
            "Data columns (total 8 columns):\n",
            " #   Column        Non-Null Count  Dtype  \n",
            "---  ------        --------------  -----  \n",
            " 0   Store         6435 non-null   int64  \n",
            " 1   Date          6435 non-null   object \n",
            " 2   Weekly_Sales  6435 non-null   float64\n",
            " 3   Holiday_Flag  6435 non-null   int64  \n",
            " 4   Temperature   6435 non-null   float64\n",
            " 5   Fuel_Price    6435 non-null   float64\n",
            " 6   CPI           6435 non-null   float64\n",
            " 7   Unemployment  6435 non-null   float64\n",
            "dtypes: float64(5), int64(2), object(1)\n",
            "memory usage: 402.3+ KB\n"
          ]
        }
      ],
      "source": [
        "data.info()\n",
        "#fornece as informações básicas sobre o conjunto de dados"
      ]
    },
    {
      "cell_type": "code",
      "execution_count": null,
      "metadata": {
        "colab": {
          "base_uri": "https://localhost:8080/"
        },
        "id": "_79ZoT6IEDOd",
        "outputId": "10ea0e2f-4d43-4edf-9399-51cf5cc5b863"
      },
      "outputs": [
        {
          "output_type": "execute_result",
          "data": {
            "text/plain": [
              "0      2010-05-02\n",
              "1      2010-12-02\n",
              "2      2010-02-19\n",
              "3      2010-02-26\n",
              "4      2010-05-03\n",
              "          ...    \n",
              "6430   2012-09-28\n",
              "6431   2012-05-10\n",
              "6432   2012-12-10\n",
              "6433   2012-10-19\n",
              "6434   2012-10-26\n",
              "Name: Date, Length: 6435, dtype: datetime64[ns]"
            ]
          },
          "metadata": {},
          "execution_count": 51
        }
      ],
      "source": [
        "#transformando os valores de data no  tipo correto\n",
        "data['Date'] = pd.to_datetime(data['Date'])\n",
        "data.Date\n"
      ]
    },
    {
      "cell_type": "code",
      "execution_count": null,
      "metadata": {
        "id": "PwShN-nya3it"
      },
      "outputs": [],
      "source": [
        "#Mudando os nomes das colunas para facilitar\n",
        "data.columns=['código_da_loja','semanas_de_vendas','vendas_por_loja','feriado','temperatura ','Preço','Índice_de_preço','taxa_de_desemprego']"
      ]
    },
    {
      "cell_type": "code",
      "execution_count": null,
      "metadata": {
        "colab": {
          "base_uri": "https://localhost:8080/",
          "height": 206
        },
        "id": "qaLBIavcixvn",
        "outputId": "335cc4bc-b15b-4b77-b407-0821941af839"
      },
      "outputs": [
        {
          "output_type": "execute_result",
          "data": {
            "text/plain": [
              "   código_da_loja semanas_de_vendas  vendas_por_loja  feriado  temperatura   \\\n",
              "0               1        2010-05-02       1643690.90        0         42.31   \n",
              "1               1        2010-12-02       1641957.44        1         38.51   \n",
              "2               1        2010-02-19       1611968.17        0         39.93   \n",
              "3               1        2010-02-26       1409727.59        0         46.63   \n",
              "4               1        2010-05-03       1554806.68        0         46.50   \n",
              "\n",
              "   Preço  Índice_de_preço  taxa_de_desemprego  \n",
              "0  2.572       211.096358               8.106  \n",
              "1  2.548       211.242170               8.106  \n",
              "2  2.514       211.289143               8.106  \n",
              "3  2.561       211.319643               8.106  \n",
              "4  2.625       211.350143               8.106  "
            ],
            "text/html": [
              "\n",
              "  <div id=\"df-3e2a8f58-7553-4f8a-a6ef-d6359199134c\">\n",
              "    <div class=\"colab-df-container\">\n",
              "      <div>\n",
              "<style scoped>\n",
              "    .dataframe tbody tr th:only-of-type {\n",
              "        vertical-align: middle;\n",
              "    }\n",
              "\n",
              "    .dataframe tbody tr th {\n",
              "        vertical-align: top;\n",
              "    }\n",
              "\n",
              "    .dataframe thead th {\n",
              "        text-align: right;\n",
              "    }\n",
              "</style>\n",
              "<table border=\"1\" class=\"dataframe\">\n",
              "  <thead>\n",
              "    <tr style=\"text-align: right;\">\n",
              "      <th></th>\n",
              "      <th>código_da_loja</th>\n",
              "      <th>semanas_de_vendas</th>\n",
              "      <th>vendas_por_loja</th>\n",
              "      <th>feriado</th>\n",
              "      <th>temperatura</th>\n",
              "      <th>Preço</th>\n",
              "      <th>Índice_de_preço</th>\n",
              "      <th>taxa_de_desemprego</th>\n",
              "    </tr>\n",
              "  </thead>\n",
              "  <tbody>\n",
              "    <tr>\n",
              "      <th>0</th>\n",
              "      <td>1</td>\n",
              "      <td>2010-05-02</td>\n",
              "      <td>1643690.90</td>\n",
              "      <td>0</td>\n",
              "      <td>42.31</td>\n",
              "      <td>2.572</td>\n",
              "      <td>211.096358</td>\n",
              "      <td>8.106</td>\n",
              "    </tr>\n",
              "    <tr>\n",
              "      <th>1</th>\n",
              "      <td>1</td>\n",
              "      <td>2010-12-02</td>\n",
              "      <td>1641957.44</td>\n",
              "      <td>1</td>\n",
              "      <td>38.51</td>\n",
              "      <td>2.548</td>\n",
              "      <td>211.242170</td>\n",
              "      <td>8.106</td>\n",
              "    </tr>\n",
              "    <tr>\n",
              "      <th>2</th>\n",
              "      <td>1</td>\n",
              "      <td>2010-02-19</td>\n",
              "      <td>1611968.17</td>\n",
              "      <td>0</td>\n",
              "      <td>39.93</td>\n",
              "      <td>2.514</td>\n",
              "      <td>211.289143</td>\n",
              "      <td>8.106</td>\n",
              "    </tr>\n",
              "    <tr>\n",
              "      <th>3</th>\n",
              "      <td>1</td>\n",
              "      <td>2010-02-26</td>\n",
              "      <td>1409727.59</td>\n",
              "      <td>0</td>\n",
              "      <td>46.63</td>\n",
              "      <td>2.561</td>\n",
              "      <td>211.319643</td>\n",
              "      <td>8.106</td>\n",
              "    </tr>\n",
              "    <tr>\n",
              "      <th>4</th>\n",
              "      <td>1</td>\n",
              "      <td>2010-05-03</td>\n",
              "      <td>1554806.68</td>\n",
              "      <td>0</td>\n",
              "      <td>46.50</td>\n",
              "      <td>2.625</td>\n",
              "      <td>211.350143</td>\n",
              "      <td>8.106</td>\n",
              "    </tr>\n",
              "  </tbody>\n",
              "</table>\n",
              "</div>\n",
              "      <button class=\"colab-df-convert\" onclick=\"convertToInteractive('df-3e2a8f58-7553-4f8a-a6ef-d6359199134c')\"\n",
              "              title=\"Convert this dataframe to an interactive table.\"\n",
              "              style=\"display:none;\">\n",
              "        \n",
              "  <svg xmlns=\"http://www.w3.org/2000/svg\" height=\"24px\"viewBox=\"0 0 24 24\"\n",
              "       width=\"24px\">\n",
              "    <path d=\"M0 0h24v24H0V0z\" fill=\"none\"/>\n",
              "    <path d=\"M18.56 5.44l.94 2.06.94-2.06 2.06-.94-2.06-.94-.94-2.06-.94 2.06-2.06.94zm-11 1L8.5 8.5l.94-2.06 2.06-.94-2.06-.94L8.5 2.5l-.94 2.06-2.06.94zm10 10l.94 2.06.94-2.06 2.06-.94-2.06-.94-.94-2.06-.94 2.06-2.06.94z\"/><path d=\"M17.41 7.96l-1.37-1.37c-.4-.4-.92-.59-1.43-.59-.52 0-1.04.2-1.43.59L10.3 9.45l-7.72 7.72c-.78.78-.78 2.05 0 2.83L4 21.41c.39.39.9.59 1.41.59.51 0 1.02-.2 1.41-.59l7.78-7.78 2.81-2.81c.8-.78.8-2.07 0-2.86zM5.41 20L4 18.59l7.72-7.72 1.47 1.35L5.41 20z\"/>\n",
              "  </svg>\n",
              "      </button>\n",
              "      \n",
              "  <style>\n",
              "    .colab-df-container {\n",
              "      display:flex;\n",
              "      flex-wrap:wrap;\n",
              "      gap: 12px;\n",
              "    }\n",
              "\n",
              "    .colab-df-convert {\n",
              "      background-color: #E8F0FE;\n",
              "      border: none;\n",
              "      border-radius: 50%;\n",
              "      cursor: pointer;\n",
              "      display: none;\n",
              "      fill: #1967D2;\n",
              "      height: 32px;\n",
              "      padding: 0 0 0 0;\n",
              "      width: 32px;\n",
              "    }\n",
              "\n",
              "    .colab-df-convert:hover {\n",
              "      background-color: #E2EBFA;\n",
              "      box-shadow: 0px 1px 2px rgba(60, 64, 67, 0.3), 0px 1px 3px 1px rgba(60, 64, 67, 0.15);\n",
              "      fill: #174EA6;\n",
              "    }\n",
              "\n",
              "    [theme=dark] .colab-df-convert {\n",
              "      background-color: #3B4455;\n",
              "      fill: #D2E3FC;\n",
              "    }\n",
              "\n",
              "    [theme=dark] .colab-df-convert:hover {\n",
              "      background-color: #434B5C;\n",
              "      box-shadow: 0px 1px 3px 1px rgba(0, 0, 0, 0.15);\n",
              "      filter: drop-shadow(0px 1px 2px rgba(0, 0, 0, 0.3));\n",
              "      fill: #FFFFFF;\n",
              "    }\n",
              "  </style>\n",
              "\n",
              "      <script>\n",
              "        const buttonEl =\n",
              "          document.querySelector('#df-3e2a8f58-7553-4f8a-a6ef-d6359199134c button.colab-df-convert');\n",
              "        buttonEl.style.display =\n",
              "          google.colab.kernel.accessAllowed ? 'block' : 'none';\n",
              "\n",
              "        async function convertToInteractive(key) {\n",
              "          const element = document.querySelector('#df-3e2a8f58-7553-4f8a-a6ef-d6359199134c');\n",
              "          const dataTable =\n",
              "            await google.colab.kernel.invokeFunction('convertToInteractive',\n",
              "                                                     [key], {});\n",
              "          if (!dataTable) return;\n",
              "\n",
              "          const docLinkHtml = 'Like what you see? Visit the ' +\n",
              "            '<a target=\"_blank\" href=https://colab.research.google.com/notebooks/data_table.ipynb>data table notebook</a>'\n",
              "            + ' to learn more about interactive tables.';\n",
              "          element.innerHTML = '';\n",
              "          dataTable['output_type'] = 'display_data';\n",
              "          await google.colab.output.renderOutput(dataTable, element);\n",
              "          const docLink = document.createElement('div');\n",
              "          docLink.innerHTML = docLinkHtml;\n",
              "          element.appendChild(docLink);\n",
              "        }\n",
              "      </script>\n",
              "    </div>\n",
              "  </div>\n",
              "  "
            ]
          },
          "metadata": {},
          "execution_count": 53
        }
      ],
      "source": [
        "data.head()"
      ]
    },
    {
      "cell_type": "markdown",
      "metadata": {
        "id": "2Q7EuNSRlj2Q"
      },
      "source": [
        "##Limpando\n"
      ]
    },
    {
      "cell_type": "code",
      "execution_count": null,
      "metadata": {
        "colab": {
          "base_uri": "https://localhost:8080/"
        },
        "id": "YbgqFsDglls9",
        "outputId": "fdf999ad-9f23-4680-85fb-2a12e552be8a"
      },
      "outputs": [
        {
          "output_type": "execute_result",
          "data": {
            "text/plain": [
              "código_da_loja        0\n",
              "semanas_de_vendas     0\n",
              "vendas_por_loja       0\n",
              "feriado               0\n",
              "temperatura           0\n",
              "Preço                 0\n",
              "Índice_de_preço       0\n",
              "taxa_de_desemprego    0\n",
              "dtype: int64"
            ]
          },
          "metadata": {},
          "execution_count": 59
        }
      ],
      "source": [
        "data.isnull().sum()\n",
        "#: detecta e conta valores ausentes (NaN) com isnull "
      ]
    },
    {
      "cell_type": "code",
      "execution_count": null,
      "metadata": {
        "colab": {
          "base_uri": "https://localhost:8080/"
        },
        "id": "IPdJ9K_6AzQk",
        "outputId": "a24f3c16-195b-49c9-f578-da87f93229b7"
      },
      "outputs": [
        {
          "output_type": "execute_result",
          "data": {
            "text/plain": [
              "0       False\n",
              "1       False\n",
              "2       False\n",
              "3       False\n",
              "4       False\n",
              "        ...  \n",
              "6430    False\n",
              "6431    False\n",
              "6432    False\n",
              "6433    False\n",
              "6434    False\n",
              "Length: 6435, dtype: bool"
            ]
          },
          "metadata": {},
          "execution_count": 60
        }
      ],
      "source": [
        "#retorna true onde tem duplicada\n",
        "data.duplicated()"
      ]
    },
    {
      "cell_type": "code",
      "execution_count": null,
      "metadata": {
        "colab": {
          "base_uri": "https://localhost:8080/"
        },
        "id": "oAI64FEMDwh0",
        "outputId": "8a4e99ee-599b-4c75-91d5-216eef3b2d8c"
      },
      "outputs": [
        {
          "output_type": "execute_result",
          "data": {
            "text/plain": [
              "Store           0\n",
              "Dept            0\n",
              "Date            0\n",
              "Weekly_Sales    0\n",
              "IsHoliday       0\n",
              "dtype: int64"
            ]
          },
          "metadata": {},
          "execution_count": 61
        }
      ],
      "source": [
        "dep.isnull().sum()"
      ]
    },
    {
      "cell_type": "code",
      "execution_count": null,
      "metadata": {
        "colab": {
          "base_uri": "https://localhost:8080/"
        },
        "id": "pTuyC5xwD4I2",
        "outputId": "597e83c5-1abe-4ec7-f36b-fd223f903a25"
      },
      "outputs": [
        {
          "output_type": "execute_result",
          "data": {
            "text/plain": [
              "0         False\n",
              "1         False\n",
              "2         False\n",
              "3         False\n",
              "4         False\n",
              "          ...  \n",
              "421565    False\n",
              "421566    False\n",
              "421567    False\n",
              "421568    False\n",
              "421569    False\n",
              "Length: 421570, dtype: bool"
            ]
          },
          "metadata": {},
          "execution_count": 62
        }
      ],
      "source": [
        "dep.duplicated()"
      ]
    },
    {
      "cell_type": "markdown",
      "metadata": {
        "id": "fn90FWB6ApcA"
      },
      "source": [
        "Como tive bons resultados deixei os dados assim mesmo"
      ]
    },
    {
      "cell_type": "markdown",
      "metadata": {
        "id": "O8YC1sYEXtBs"
      },
      "source": [
        "##Qual é o impacto dos feriados (promoções também) nas vendas das lojas?\n",
        "\n",
        "\n"
      ]
    },
    {
      "cell_type": "markdown",
      "metadata": {
        "id": "TKWk9j22f7be"
      },
      "source": [
        "data.corr()\n",
        "*   -1 associaçao negativa\n",
        "*   0 nao há associação\n",
        "*   1 associação positiva\n"
      ]
    },
    {
      "cell_type": "code",
      "execution_count": null,
      "metadata": {
        "colab": {
          "base_uri": "https://localhost:8080/",
          "height": 269
        },
        "id": "3t8A75hrfHnE",
        "outputId": "ca557a3b-8996-40ab-c07e-397cf1d776b6"
      },
      "outputs": [
        {
          "output_type": "execute_result",
          "data": {
            "text/plain": [
              "                    código_da_loja  vendas_por_loja   feriado  temperatura   \\\n",
              "código_da_loja            1.000000        -0.309227  0.000000     -0.026392   \n",
              "vendas_por_loja          -0.309227         1.000000  0.027774     -0.070962   \n",
              "feriado                   0.000000         0.027774  1.000000     -0.143588   \n",
              "temperatura              -0.026392        -0.070962 -0.143588      1.000000   \n",
              "Preço                     0.064878         0.025471 -0.080111      0.128624   \n",
              "Índice_de_preço          -0.238852        -0.055040 -0.004752      0.165957   \n",
              "taxa_de_desemprego        0.304139        -0.062354  0.011177      0.038833   \n",
              "\n",
              "                       Preço  Índice_de_preço  taxa_de_desemprego  \n",
              "código_da_loja      0.064878        -0.238852            0.304139  \n",
              "vendas_por_loja     0.025471        -0.055040           -0.062354  \n",
              "feriado            -0.080111        -0.004752            0.011177  \n",
              "temperatura         0.128624         0.165957            0.038833  \n",
              "Preço               1.000000        -0.045867           -0.064725  \n",
              "Índice_de_preço    -0.045867         1.000000           -0.388563  \n",
              "taxa_de_desemprego -0.064725        -0.388563            1.000000  "
            ],
            "text/html": [
              "\n",
              "  <div id=\"df-989530bd-c4ac-40bd-b514-67d5caf9f14d\">\n",
              "    <div class=\"colab-df-container\">\n",
              "      <div>\n",
              "<style scoped>\n",
              "    .dataframe tbody tr th:only-of-type {\n",
              "        vertical-align: middle;\n",
              "    }\n",
              "\n",
              "    .dataframe tbody tr th {\n",
              "        vertical-align: top;\n",
              "    }\n",
              "\n",
              "    .dataframe thead th {\n",
              "        text-align: right;\n",
              "    }\n",
              "</style>\n",
              "<table border=\"1\" class=\"dataframe\">\n",
              "  <thead>\n",
              "    <tr style=\"text-align: right;\">\n",
              "      <th></th>\n",
              "      <th>código_da_loja</th>\n",
              "      <th>vendas_por_loja</th>\n",
              "      <th>feriado</th>\n",
              "      <th>temperatura</th>\n",
              "      <th>Preço</th>\n",
              "      <th>Índice_de_preço</th>\n",
              "      <th>taxa_de_desemprego</th>\n",
              "    </tr>\n",
              "  </thead>\n",
              "  <tbody>\n",
              "    <tr>\n",
              "      <th>código_da_loja</th>\n",
              "      <td>1.000000</td>\n",
              "      <td>-0.309227</td>\n",
              "      <td>0.000000</td>\n",
              "      <td>-0.026392</td>\n",
              "      <td>0.064878</td>\n",
              "      <td>-0.238852</td>\n",
              "      <td>0.304139</td>\n",
              "    </tr>\n",
              "    <tr>\n",
              "      <th>vendas_por_loja</th>\n",
              "      <td>-0.309227</td>\n",
              "      <td>1.000000</td>\n",
              "      <td>0.027774</td>\n",
              "      <td>-0.070962</td>\n",
              "      <td>0.025471</td>\n",
              "      <td>-0.055040</td>\n",
              "      <td>-0.062354</td>\n",
              "    </tr>\n",
              "    <tr>\n",
              "      <th>feriado</th>\n",
              "      <td>0.000000</td>\n",
              "      <td>0.027774</td>\n",
              "      <td>1.000000</td>\n",
              "      <td>-0.143588</td>\n",
              "      <td>-0.080111</td>\n",
              "      <td>-0.004752</td>\n",
              "      <td>0.011177</td>\n",
              "    </tr>\n",
              "    <tr>\n",
              "      <th>temperatura</th>\n",
              "      <td>-0.026392</td>\n",
              "      <td>-0.070962</td>\n",
              "      <td>-0.143588</td>\n",
              "      <td>1.000000</td>\n",
              "      <td>0.128624</td>\n",
              "      <td>0.165957</td>\n",
              "      <td>0.038833</td>\n",
              "    </tr>\n",
              "    <tr>\n",
              "      <th>Preço</th>\n",
              "      <td>0.064878</td>\n",
              "      <td>0.025471</td>\n",
              "      <td>-0.080111</td>\n",
              "      <td>0.128624</td>\n",
              "      <td>1.000000</td>\n",
              "      <td>-0.045867</td>\n",
              "      <td>-0.064725</td>\n",
              "    </tr>\n",
              "    <tr>\n",
              "      <th>Índice_de_preço</th>\n",
              "      <td>-0.238852</td>\n",
              "      <td>-0.055040</td>\n",
              "      <td>-0.004752</td>\n",
              "      <td>0.165957</td>\n",
              "      <td>-0.045867</td>\n",
              "      <td>1.000000</td>\n",
              "      <td>-0.388563</td>\n",
              "    </tr>\n",
              "    <tr>\n",
              "      <th>taxa_de_desemprego</th>\n",
              "      <td>0.304139</td>\n",
              "      <td>-0.062354</td>\n",
              "      <td>0.011177</td>\n",
              "      <td>0.038833</td>\n",
              "      <td>-0.064725</td>\n",
              "      <td>-0.388563</td>\n",
              "      <td>1.000000</td>\n",
              "    </tr>\n",
              "  </tbody>\n",
              "</table>\n",
              "</div>\n",
              "      <button class=\"colab-df-convert\" onclick=\"convertToInteractive('df-989530bd-c4ac-40bd-b514-67d5caf9f14d')\"\n",
              "              title=\"Convert this dataframe to an interactive table.\"\n",
              "              style=\"display:none;\">\n",
              "        \n",
              "  <svg xmlns=\"http://www.w3.org/2000/svg\" height=\"24px\"viewBox=\"0 0 24 24\"\n",
              "       width=\"24px\">\n",
              "    <path d=\"M0 0h24v24H0V0z\" fill=\"none\"/>\n",
              "    <path d=\"M18.56 5.44l.94 2.06.94-2.06 2.06-.94-2.06-.94-.94-2.06-.94 2.06-2.06.94zm-11 1L8.5 8.5l.94-2.06 2.06-.94-2.06-.94L8.5 2.5l-.94 2.06-2.06.94zm10 10l.94 2.06.94-2.06 2.06-.94-2.06-.94-.94-2.06-.94 2.06-2.06.94z\"/><path d=\"M17.41 7.96l-1.37-1.37c-.4-.4-.92-.59-1.43-.59-.52 0-1.04.2-1.43.59L10.3 9.45l-7.72 7.72c-.78.78-.78 2.05 0 2.83L4 21.41c.39.39.9.59 1.41.59.51 0 1.02-.2 1.41-.59l7.78-7.78 2.81-2.81c.8-.78.8-2.07 0-2.86zM5.41 20L4 18.59l7.72-7.72 1.47 1.35L5.41 20z\"/>\n",
              "  </svg>\n",
              "      </button>\n",
              "      \n",
              "  <style>\n",
              "    .colab-df-container {\n",
              "      display:flex;\n",
              "      flex-wrap:wrap;\n",
              "      gap: 12px;\n",
              "    }\n",
              "\n",
              "    .colab-df-convert {\n",
              "      background-color: #E8F0FE;\n",
              "      border: none;\n",
              "      border-radius: 50%;\n",
              "      cursor: pointer;\n",
              "      display: none;\n",
              "      fill: #1967D2;\n",
              "      height: 32px;\n",
              "      padding: 0 0 0 0;\n",
              "      width: 32px;\n",
              "    }\n",
              "\n",
              "    .colab-df-convert:hover {\n",
              "      background-color: #E2EBFA;\n",
              "      box-shadow: 0px 1px 2px rgba(60, 64, 67, 0.3), 0px 1px 3px 1px rgba(60, 64, 67, 0.15);\n",
              "      fill: #174EA6;\n",
              "    }\n",
              "\n",
              "    [theme=dark] .colab-df-convert {\n",
              "      background-color: #3B4455;\n",
              "      fill: #D2E3FC;\n",
              "    }\n",
              "\n",
              "    [theme=dark] .colab-df-convert:hover {\n",
              "      background-color: #434B5C;\n",
              "      box-shadow: 0px 1px 3px 1px rgba(0, 0, 0, 0.15);\n",
              "      filter: drop-shadow(0px 1px 2px rgba(0, 0, 0, 0.3));\n",
              "      fill: #FFFFFF;\n",
              "    }\n",
              "  </style>\n",
              "\n",
              "      <script>\n",
              "        const buttonEl =\n",
              "          document.querySelector('#df-989530bd-c4ac-40bd-b514-67d5caf9f14d button.colab-df-convert');\n",
              "        buttonEl.style.display =\n",
              "          google.colab.kernel.accessAllowed ? 'block' : 'none';\n",
              "\n",
              "        async function convertToInteractive(key) {\n",
              "          const element = document.querySelector('#df-989530bd-c4ac-40bd-b514-67d5caf9f14d');\n",
              "          const dataTable =\n",
              "            await google.colab.kernel.invokeFunction('convertToInteractive',\n",
              "                                                     [key], {});\n",
              "          if (!dataTable) return;\n",
              "\n",
              "          const docLinkHtml = 'Like what you see? Visit the ' +\n",
              "            '<a target=\"_blank\" href=https://colab.research.google.com/notebooks/data_table.ipynb>data table notebook</a>'\n",
              "            + ' to learn more about interactive tables.';\n",
              "          element.innerHTML = '';\n",
              "          dataTable['output_type'] = 'display_data';\n",
              "          await google.colab.output.renderOutput(dataTable, element);\n",
              "          const docLink = document.createElement('div');\n",
              "          docLink.innerHTML = docLinkHtml;\n",
              "          element.appendChild(docLink);\n",
              "        }\n",
              "      </script>\n",
              "    </div>\n",
              "  </div>\n",
              "  "
            ]
          },
          "metadata": {},
          "execution_count": 89
        }
      ],
      "source": [
        "data.corr(method ='spearman')"
      ]
    },
    {
      "cell_type": "code",
      "execution_count": null,
      "metadata": {
        "colab": {
          "base_uri": "https://localhost:8080/",
          "height": 420
        },
        "id": "dcFUQlGbfQ8A",
        "outputId": "cccdc4ff-36a0-4da7-8c7c-ae25c0138bb4"
      },
      "outputs": [
        {
          "output_type": "display_data",
          "data": {
            "text/plain": [
              "<Figure size 1440x360 with 2 Axes>"
            ],
            "image/png": "[encoded data removed]"
          },
          "metadata": {
            "needs_background": "light"
          }
        }
      ],
      "source": [
        "aux = sb.heatmap(data.corr(method ='spearman'), annot = True)\n",
        "aux.figure.set_size_inches(20, 5)"
      ]
    },
    {
      "cell_type": "code",
      "execution_count": null,
      "metadata": {
        "colab": {
          "base_uri": "https://localhost:8080/",
          "height": 269
        },
        "id": "u_Qu_MlVd4np",
        "outputId": "7c360922-9ca0-44e1-afca-9c7b958444b0"
      },
      "outputs": [
        {
          "output_type": "execute_result",
          "data": {
            "text/plain": [
              "                    código_da_loja  vendas_por_loja       feriado  \\\n",
              "código_da_loja        1.000000e+00        -0.335332 -4.386841e-16   \n",
              "vendas_por_loja      -3.353320e-01         1.000000  3.689097e-02   \n",
              "feriado              -4.386841e-16         0.036891  1.000000e+00   \n",
              "temperatura          -2.265908e-02        -0.063810 -1.550913e-01   \n",
              "Preço                 6.002295e-02         0.009464 -7.834652e-02   \n",
              "Índice_de_preço      -2.094919e-01        -0.072634 -2.162091e-03   \n",
              "taxa_de_desemprego    2.235313e-01        -0.106176  1.096028e-02   \n",
              "\n",
              "                    temperatura      Preço  Índice_de_preço  \\\n",
              "código_da_loja         -0.022659  0.060023        -0.209492   \n",
              "vendas_por_loja        -0.063810  0.009464        -0.072634   \n",
              "feriado                -0.155091 -0.078347        -0.002162   \n",
              "temperatura             1.000000  0.144982         0.176888   \n",
              "Preço                   0.144982  1.000000        -0.170642   \n",
              "Índice_de_preço         0.176888 -0.170642         1.000000   \n",
              "taxa_de_desemprego      0.101158 -0.034684        -0.302020   \n",
              "\n",
              "                    taxa_de_desemprego  \n",
              "código_da_loja                0.223531  \n",
              "vendas_por_loja              -0.106176  \n",
              "feriado                       0.010960  \n",
              "temperatura                   0.101158  \n",
              "Preço                        -0.034684  \n",
              "Índice_de_preço              -0.302020  \n",
              "taxa_de_desemprego            1.000000  "
            ],
            "text/html": [
              "\n",
              "  <div id=\"df-94d65101-f1a9-459c-8932-bd7867053dca\">\n",
              "    <div class=\"colab-df-container\">\n",
              "      <div>\n",
              "<style scoped>\n",
              "    .dataframe tbody tr th:only-of-type {\n",
              "        vertical-align: middle;\n",
              "    }\n",
              "\n",
              "    .dataframe tbody tr th {\n",
              "        vertical-align: top;\n",
              "    }\n",
              "\n",
              "    .dataframe thead th {\n",
              "        text-align: right;\n",
              "    }\n",
              "</style>\n",
              "<table border=\"1\" class=\"dataframe\">\n",
              "  <thead>\n",
              "    <tr style=\"text-align: right;\">\n",
              "      <th></th>\n",
              "      <th>código_da_loja</th>\n",
              "      <th>vendas_por_loja</th>\n",
              "      <th>feriado</th>\n",
              "      <th>temperatura</th>\n",
              "      <th>Preço</th>\n",
              "      <th>Índice_de_preço</th>\n",
              "      <th>taxa_de_desemprego</th>\n",
              "    </tr>\n",
              "  </thead>\n",
              "  <tbody>\n",
              "    <tr>\n",
              "      <th>código_da_loja</th>\n",
              "      <td>1.000000e+00</td>\n",
              "      <td>-0.335332</td>\n",
              "      <td>-4.386841e-16</td>\n",
              "      <td>-0.022659</td>\n",
              "      <td>0.060023</td>\n",
              "      <td>-0.209492</td>\n",
              "      <td>0.223531</td>\n",
              "    </tr>\n",
              "    <tr>\n",
              "      <th>vendas_por_loja</th>\n",
              "      <td>-3.353320e-01</td>\n",
              "      <td>1.000000</td>\n",
              "      <td>3.689097e-02</td>\n",
              "      <td>-0.063810</td>\n",
              "      <td>0.009464</td>\n",
              "      <td>-0.072634</td>\n",
              "      <td>-0.106176</td>\n",
              "    </tr>\n",
              "    <tr>\n",
              "      <th>feriado</th>\n",
              "      <td>-4.386841e-16</td>\n",
              "      <td>0.036891</td>\n",
              "      <td>1.000000e+00</td>\n",
              "      <td>-0.155091</td>\n",
              "      <td>-0.078347</td>\n",
              "      <td>-0.002162</td>\n",
              "      <td>0.010960</td>\n",
              "    </tr>\n",
              "    <tr>\n",
              "      <th>temperatura</th>\n",
              "      <td>-2.265908e-02</td>\n",
              "      <td>-0.063810</td>\n",
              "      <td>-1.550913e-01</td>\n",
              "      <td>1.000000</td>\n",
              "      <td>0.144982</td>\n",
              "      <td>0.176888</td>\n",
              "      <td>0.101158</td>\n",
              "    </tr>\n",
              "    <tr>\n",
              "      <th>Preço</th>\n",
              "      <td>6.002295e-02</td>\n",
              "      <td>0.009464</td>\n",
              "      <td>-7.834652e-02</td>\n",
              "      <td>0.144982</td>\n",
              "      <td>1.000000</td>\n",
              "      <td>-0.170642</td>\n",
              "      <td>-0.034684</td>\n",
              "    </tr>\n",
              "    <tr>\n",
              "      <th>Índice_de_preço</th>\n",
              "      <td>-2.094919e-01</td>\n",
              "      <td>-0.072634</td>\n",
              "      <td>-2.162091e-03</td>\n",
              "      <td>0.176888</td>\n",
              "      <td>-0.170642</td>\n",
              "      <td>1.000000</td>\n",
              "      <td>-0.302020</td>\n",
              "    </tr>\n",
              "    <tr>\n",
              "      <th>taxa_de_desemprego</th>\n",
              "      <td>2.235313e-01</td>\n",
              "      <td>-0.106176</td>\n",
              "      <td>1.096028e-02</td>\n",
              "      <td>0.101158</td>\n",
              "      <td>-0.034684</td>\n",
              "      <td>-0.302020</td>\n",
              "      <td>1.000000</td>\n",
              "    </tr>\n",
              "  </tbody>\n",
              "</table>\n",
              "</div>\n",
              "      <button class=\"colab-df-convert\" onclick=\"convertToInteractive('df-94d65101-f1a9-459c-8932-bd7867053dca')\"\n",
              "              title=\"Convert this dataframe to an interactive table.\"\n",
              "              style=\"display:none;\">\n",
              "        \n",
              "  <svg xmlns=\"http://www.w3.org/2000/svg\" height=\"24px\"viewBox=\"0 0 24 24\"\n",
              "       width=\"24px\">\n",
              "    <path d=\"M0 0h24v24H0V0z\" fill=\"none\"/>\n",
              "    <path d=\"M18.56 5.44l.94 2.06.94-2.06 2.06-.94-2.06-.94-.94-2.06-.94 2.06-2.06.94zm-11 1L8.5 8.5l.94-2.06 2.06-.94-2.06-.94L8.5 2.5l-.94 2.06-2.06.94zm10 10l.94 2.06.94-2.06 2.06-.94-2.06-.94-.94-2.06-.94 2.06-2.06.94z\"/><path d=\"M17.41 7.96l-1.37-1.37c-.4-.4-.92-.59-1.43-.59-.52 0-1.04.2-1.43.59L10.3 9.45l-7.72 7.72c-.78.78-.78 2.05 0 2.83L4 21.41c.39.39.9.59 1.41.59.51 0 1.02-.2 1.41-.59l7.78-7.78 2.81-2.81c.8-.78.8-2.07 0-2.86zM5.41 20L4 18.59l7.72-7.72 1.47 1.35L5.41 20z\"/>\n",
              "  </svg>\n",
              "      </button>\n",
              "      \n",
              "  <style>\n",
              "    .colab-df-container {\n",
              "      display:flex;\n",
              "      flex-wrap:wrap;\n",
              "      gap: 12px;\n",
              "    }\n",
              "\n",
              "    .colab-df-convert {\n",
              "      background-color: #E8F0FE;\n",
              "      border: none;\n",
              "      border-radius: 50%;\n",
              "      cursor: pointer;\n",
              "      display: none;\n",
              "      fill: #1967D2;\n",
              "      height: 32px;\n",
              "      padding: 0 0 0 0;\n",
              "      width: 32px;\n",
              "    }\n",
              "\n",
              "    .colab-df-convert:hover {\n",
              "      background-color: #E2EBFA;\n",
              "      box-shadow: 0px 1px 2px rgba(60, 64, 67, 0.3), 0px 1px 3px 1px rgba(60, 64, 67, 0.15);\n",
              "      fill: #174EA6;\n",
              "    }\n",
              "\n",
              "    [theme=dark] .colab-df-convert {\n",
              "      background-color: #3B4455;\n",
              "      fill: #D2E3FC;\n",
              "    }\n",
              "\n",
              "    [theme=dark] .colab-df-convert:hover {\n",
              "      background-color: #434B5C;\n",
              "      box-shadow: 0px 1px 3px 1px rgba(0, 0, 0, 0.15);\n",
              "      filter: drop-shadow(0px 1px 2px rgba(0, 0, 0, 0.3));\n",
              "      fill: #FFFFFF;\n",
              "    }\n",
              "  </style>\n",
              "\n",
              "      <script>\n",
              "        const buttonEl =\n",
              "          document.querySelector('#df-94d65101-f1a9-459c-8932-bd7867053dca button.colab-df-convert');\n",
              "        buttonEl.style.display =\n",
              "          google.colab.kernel.accessAllowed ? 'block' : 'none';\n",
              "\n",
              "        async function convertToInteractive(key) {\n",
              "          const element = document.querySelector('#df-94d65101-f1a9-459c-8932-bd7867053dca');\n",
              "          const dataTable =\n",
              "            await google.colab.kernel.invokeFunction('convertToInteractive',\n",
              "                                                     [key], {});\n",
              "          if (!dataTable) return;\n",
              "\n",
              "          const docLinkHtml = 'Like what you see? Visit the ' +\n",
              "            '<a target=\"_blank\" href=https://colab.research.google.com/notebooks/data_table.ipynb>data table notebook</a>'\n",
              "            + ' to learn more about interactive tables.';\n",
              "          element.innerHTML = '';\n",
              "          dataTable['output_type'] = 'display_data';\n",
              "          await google.colab.output.renderOutput(dataTable, element);\n",
              "          const docLink = document.createElement('div');\n",
              "          docLink.innerHTML = docLinkHtml;\n",
              "          element.appendChild(docLink);\n",
              "        }\n",
              "      </script>\n",
              "    </div>\n",
              "  </div>\n",
              "  "
            ]
          },
          "metadata": {},
          "execution_count": 91
        }
      ],
      "source": [
        "data.corr(method ='pearson')\n"
      ]
    },
    {
      "cell_type": "code",
      "execution_count": null,
      "metadata": {
        "colab": {
          "base_uri": "https://localhost:8080/",
          "height": 420
        },
        "id": "4WK9QAiSfeid",
        "outputId": "3c2d4f75-aba3-4ace-efee-9443e49e80bc"
      },
      "outputs": [
        {
          "output_type": "display_data",
          "data": {
            "text/plain": [
              "<Figure size 1440x360 with 2 Axes>"
            ],
            "image/png": "[encoded data removed]"
          },
          "metadata": {
            "needs_background": "light"
          }
        }
      ],
      "source": [
        "aux = sb.heatmap(data.corr(method ='pearson'), annot = True)\n",
        "aux.figure.set_size_inches(20, 5)"
      ]
    },
    {
      "cell_type": "code",
      "execution_count": null,
      "metadata": {
        "colab": {
          "base_uri": "https://localhost:8080/",
          "height": 269
        },
        "id": "yjxBOj1_eFF6",
        "outputId": "11dc6232-8f64-424a-f385-8d5da7e10653"
      },
      "outputs": [
        {
          "output_type": "execute_result",
          "data": {
            "text/plain": [
              "                    código_da_loja  vendas_por_loja   feriado  temperatura   \\\n",
              "código_da_loja            1.000000        -0.209491  0.000000     -0.017043   \n",
              "vendas_por_loja          -0.209491         1.000000  0.022679     -0.046858   \n",
              "feriado                   0.000000         0.022679  1.000000     -0.117262   \n",
              "temperatura              -0.017043        -0.046858 -0.117262      1.000000   \n",
              "Preço                     0.044066         0.017218 -0.065470      0.078911   \n",
              "Índice_de_preço          -0.150699        -0.041716 -0.003882      0.113739   \n",
              "taxa_de_desemprego        0.209715        -0.046688  0.009144      0.026038   \n",
              "\n",
              "                       Preço  Índice_de_preço  taxa_de_desemprego  \n",
              "código_da_loja      0.044066        -0.150699            0.209715  \n",
              "vendas_por_loja     0.017218        -0.041716           -0.046688  \n",
              "feriado            -0.065470        -0.003882            0.009144  \n",
              "temperatura         0.078911         0.113739            0.026038  \n",
              "Preço               1.000000        -0.029558           -0.041399  \n",
              "Índice_de_preço    -0.029558         1.000000           -0.299380  \n",
              "taxa_de_desemprego -0.041399        -0.299380            1.000000  "
            ],
            "text/html": [
              "\n",
              "  <div id=\"df-fd5da4fb-ab17-4f32-ac0d-c03fd67d01c4\">\n",
              "    <div class=\"colab-df-container\">\n",
              "      <div>\n",
              "<style scoped>\n",
              "    .dataframe tbody tr th:only-of-type {\n",
              "        vertical-align: middle;\n",
              "    }\n",
              "\n",
              "    .dataframe tbody tr th {\n",
              "        vertical-align: top;\n",
              "    }\n",
              "\n",
              "    .dataframe thead th {\n",
              "        text-align: right;\n",
              "    }\n",
              "</style>\n",
              "<table border=\"1\" class=\"dataframe\">\n",
              "  <thead>\n",
              "    <tr style=\"text-align: right;\">\n",
              "      <th></th>\n",
              "      <th>código_da_loja</th>\n",
              "      <th>vendas_por_loja</th>\n",
              "      <th>feriado</th>\n",
              "      <th>temperatura</th>\n",
              "      <th>Preço</th>\n",
              "      <th>Índice_de_preço</th>\n",
              "      <th>taxa_de_desemprego</th>\n",
              "    </tr>\n",
              "  </thead>\n",
              "  <tbody>\n",
              "    <tr>\n",
              "      <th>código_da_loja</th>\n",
              "      <td>1.000000</td>\n",
              "      <td>-0.209491</td>\n",
              "      <td>0.000000</td>\n",
              "      <td>-0.017043</td>\n",
              "      <td>0.044066</td>\n",
              "      <td>-0.150699</td>\n",
              "      <td>0.209715</td>\n",
              "    </tr>\n",
              "    <tr>\n",
              "      <th>vendas_por_loja</th>\n",
              "      <td>-0.209491</td>\n",
              "      <td>1.000000</td>\n",
              "      <td>0.022679</td>\n",
              "      <td>-0.046858</td>\n",
              "      <td>0.017218</td>\n",
              "      <td>-0.041716</td>\n",
              "      <td>-0.046688</td>\n",
              "    </tr>\n",
              "    <tr>\n",
              "      <th>feriado</th>\n",
              "      <td>0.000000</td>\n",
              "      <td>0.022679</td>\n",
              "      <td>1.000000</td>\n",
              "      <td>-0.117262</td>\n",
              "      <td>-0.065470</td>\n",
              "      <td>-0.003882</td>\n",
              "      <td>0.009144</td>\n",
              "    </tr>\n",
              "    <tr>\n",
              "      <th>temperatura</th>\n",
              "      <td>-0.017043</td>\n",
              "      <td>-0.046858</td>\n",
              "      <td>-0.117262</td>\n",
              "      <td>1.000000</td>\n",
              "      <td>0.078911</td>\n",
              "      <td>0.113739</td>\n",
              "      <td>0.026038</td>\n",
              "    </tr>\n",
              "    <tr>\n",
              "      <th>Preço</th>\n",
              "      <td>0.044066</td>\n",
              "      <td>0.017218</td>\n",
              "      <td>-0.065470</td>\n",
              "      <td>0.078911</td>\n",
              "      <td>1.000000</td>\n",
              "      <td>-0.029558</td>\n",
              "      <td>-0.041399</td>\n",
              "    </tr>\n",
              "    <tr>\n",
              "      <th>Índice_de_preço</th>\n",
              "      <td>-0.150699</td>\n",
              "      <td>-0.041716</td>\n",
              "      <td>-0.003882</td>\n",
              "      <td>0.113739</td>\n",
              "      <td>-0.029558</td>\n",
              "      <td>1.000000</td>\n",
              "      <td>-0.299380</td>\n",
              "    </tr>\n",
              "    <tr>\n",
              "      <th>taxa_de_desemprego</th>\n",
              "      <td>0.209715</td>\n",
              "      <td>-0.046688</td>\n",
              "      <td>0.009144</td>\n",
              "      <td>0.026038</td>\n",
              "      <td>-0.041399</td>\n",
              "      <td>-0.299380</td>\n",
              "      <td>1.000000</td>\n",
              "    </tr>\n",
              "  </tbody>\n",
              "</table>\n",
              "</div>\n",
              "      <button class=\"colab-df-convert\" onclick=\"convertToInteractive('df-fd5da4fb-ab17-4f32-ac0d-c03fd67d01c4')\"\n",
              "              title=\"Convert this dataframe to an interactive table.\"\n",
              "              style=\"display:none;\">\n",
              "        \n",
              "  <svg xmlns=\"http://www.w3.org/2000/svg\" height=\"24px\"viewBox=\"0 0 24 24\"\n",
              "       width=\"24px\">\n",
              "    <path d=\"M0 0h24v24H0V0z\" fill=\"none\"/>\n",
              "    <path d=\"M18.56 5.44l.94 2.06.94-2.06 2.06-.94-2.06-.94-.94-2.06-.94 2.06-2.06.94zm-11 1L8.5 8.5l.94-2.06 2.06-.94-2.06-.94L8.5 2.5l-.94 2.06-2.06.94zm10 10l.94 2.06.94-2.06 2.06-.94-2.06-.94-.94-2.06-.94 2.06-2.06.94z\"/><path d=\"M17.41 7.96l-1.37-1.37c-.4-.4-.92-.59-1.43-.59-.52 0-1.04.2-1.43.59L10.3 9.45l-7.72 7.72c-.78.78-.78 2.05 0 2.83L4 21.41c.39.39.9.59 1.41.59.51 0 1.02-.2 1.41-.59l7.78-7.78 2.81-2.81c.8-.78.8-2.07 0-2.86zM5.41 20L4 18.59l7.72-7.72 1.47 1.35L5.41 20z\"/>\n",
              "  </svg>\n",
              "      </button>\n",
              "      \n",
              "  <style>\n",
              "    .colab-df-container {\n",
              "      display:flex;\n",
              "      flex-wrap:wrap;\n",
              "      gap: 12px;\n",
              "    }\n",
              "\n",
              "    .colab-df-convert {\n",
              "      background-color: #E8F0FE;\n",
              "      border: none;\n",
              "      border-radius: 50%;\n",
              "      cursor: pointer;\n",
              "      display: none;\n",
              "      fill: #1967D2;\n",
              "      height: 32px;\n",
              "      padding: 0 0 0 0;\n",
              "      width: 32px;\n",
              "    }\n",
              "\n",
              "    .colab-df-convert:hover {\n",
              "      background-color: #E2EBFA;\n",
              "      box-shadow: 0px 1px 2px rgba(60, 64, 67, 0.3), 0px 1px 3px 1px rgba(60, 64, 67, 0.15);\n",
              "      fill: #174EA6;\n",
              "    }\n",
              "\n",
              "    [theme=dark] .colab-df-convert {\n",
              "      background-color: #3B4455;\n",
              "      fill: #D2E3FC;\n",
              "    }\n",
              "\n",
              "    [theme=dark] .colab-df-convert:hover {\n",
              "      background-color: #434B5C;\n",
              "      box-shadow: 0px 1px 3px 1px rgba(0, 0, 0, 0.15);\n",
              "      filter: drop-shadow(0px 1px 2px rgba(0, 0, 0, 0.3));\n",
              "      fill: #FFFFFF;\n",
              "    }\n",
              "  </style>\n",
              "\n",
              "      <script>\n",
              "        const buttonEl =\n",
              "          document.querySelector('#df-fd5da4fb-ab17-4f32-ac0d-c03fd67d01c4 button.colab-df-convert');\n",
              "        buttonEl.style.display =\n",
              "          google.colab.kernel.accessAllowed ? 'block' : 'none';\n",
              "\n",
              "        async function convertToInteractive(key) {\n",
              "          const element = document.querySelector('#df-fd5da4fb-ab17-4f32-ac0d-c03fd67d01c4');\n",
              "          const dataTable =\n",
              "            await google.colab.kernel.invokeFunction('convertToInteractive',\n",
              "                                                     [key], {});\n",
              "          if (!dataTable) return;\n",
              "\n",
              "          const docLinkHtml = 'Like what you see? Visit the ' +\n",
              "            '<a target=\"_blank\" href=https://colab.research.google.com/notebooks/data_table.ipynb>data table notebook</a>'\n",
              "            + ' to learn more about interactive tables.';\n",
              "          element.innerHTML = '';\n",
              "          dataTable['output_type'] = 'display_data';\n",
              "          await google.colab.output.renderOutput(dataTable, element);\n",
              "          const docLink = document.createElement('div');\n",
              "          docLink.innerHTML = docLinkHtml;\n",
              "          element.appendChild(docLink);\n",
              "        }\n",
              "      </script>\n",
              "    </div>\n",
              "  </div>\n",
              "  "
            ]
          },
          "metadata": {},
          "execution_count": 93
        }
      ],
      "source": [
        "data.corr(method='kendall')\n"
      ]
    },
    {
      "cell_type": "code",
      "execution_count": null,
      "metadata": {
        "colab": {
          "base_uri": "https://localhost:8080/",
          "height": 420
        },
        "id": "ReQOLc1LeRWB",
        "outputId": "8e707827-057d-4923-8966-88f4f889c31f"
      },
      "outputs": [
        {
          "output_type": "display_data",
          "data": {
            "text/plain": [
              "<Figure size 1440x360 with 2 Axes>"
            ],
            "image/png": "[encoded data removed]"
          },
          "metadata": {
            "needs_background": "light"
          }
        }
      ],
      "source": [
        "aux = sb.heatmap(data.corr(method='kendall'), annot = True)\n",
        "aux.figure.set_size_inches(20, 5)"
      ]
    },
    {
      "cell_type": "code",
      "execution_count": null,
      "metadata": {
        "id": "5B-VO7ntx5T6"
      },
      "outputs": [],
      "source": []
    },
    {
      "cell_type": "markdown",
      "metadata": {
        "id": "nPx4B8fmFrR5"
      },
      "source": [
        "Analisando o resultado obtido podemos ver que as vendas não tem uma correlação forte com os feriados."
      ]
    },
    {
      "cell_type": "code",
      "execution_count": null,
      "metadata": {
        "colab": {
          "base_uri": "https://localhost:8080/",
          "height": 280
        },
        "id": "Dp0y0S0bovXL",
        "outputId": "233a05b0-8e9f-4829-d360-bf088a5c1fbe"
      },
      "outputs": [
        {
          "output_type": "display_data",
          "data": {
            "text/plain": [
              "<Figure size 1800x360 with 1 Axes>"
            ],
            "image/png": "[encoded data removed]"
          },
          "metadata": {
            "needs_background": "light"
          }
        }
      ],
      "source": [
        "aux = sb.lineplot(x= 'semanas_de_vendas', y='vendas_por_loja', data=data)\n",
        "aux.figure.set_size_inches(25, 5)"
      ]
    },
    {
      "cell_type": "code",
      "execution_count": null,
      "metadata": {
        "colab": {
          "base_uri": "https://localhost:8080/",
          "height": 280
        },
        "id": "zcFLSKGT2pCh",
        "outputId": "2a4802e8-7eca-4c07-d2c3-d41707fe2516"
      },
      "outputs": [
        {
          "output_type": "display_data",
          "data": {
            "text/plain": [
              "<Figure size 1800x360 with 1 Axes>"
            ],
            "image/png": "[encoded data removed]"
          },
          "metadata": {
            "needs_background": "light"
          }
        }
      ],
      "source": [
        "#aux = sb.lineplot(x= 'Date', y='Weekly_Sales', data=data, hue= 'Holiday_Flag')\n",
        "aux = sb.lineplot(x= 'semanas_de_vendas', y='vendas_por_loja', data=data, hue= 'feriado')\n",
        "aux.figure.set_size_inches(25, 5)\n"
      ]
    },
    {
      "cell_type": "code",
      "execution_count": null,
      "metadata": {
        "colab": {
          "base_uri": "https://localhost:8080/"
        },
        "id": "HNk050mAX-d3",
        "outputId": "ba5018bb-1c98-48b1-f0d3-9faabc135801"
      },
      "outputs": [
        {
          "output_type": "execute_result",
          "data": {
            "text/plain": [
              "<bound method NDFrame.head of       código_da_loja semanas_de_vendas  vendas_por_loja  feriado  \\\n",
              "0                  1        2010-05-02       1643690.90        0   \n",
              "1                  1        2010-12-02       1641957.44        1   \n",
              "2                  1        2010-02-19       1611968.17        0   \n",
              "3                  1        2010-02-26       1409727.59        0   \n",
              "4                  1        2010-05-03       1554806.68        0   \n",
              "...              ...               ...              ...      ...   \n",
              "6430              45        2012-09-28        713173.95        0   \n",
              "6431              45        2012-05-10        733455.07        0   \n",
              "6432              45        2012-12-10        734464.36        0   \n",
              "6433              45        2012-10-19        718125.53        0   \n",
              "6434              45        2012-10-26        760281.43        0   \n",
              "\n",
              "      temperatura   Preço  Índice_de_preço  taxa_de_desemprego Super_Bowl  \\\n",
              "0            42.31  2.572       211.096358               8.106      False   \n",
              "1            38.51  2.548       211.242170               8.106      False   \n",
              "2            39.93  2.514       211.289143               8.106      False   \n",
              "3            46.63  2.561       211.319643               8.106      False   \n",
              "4            46.50  2.625       211.350143               8.106      False   \n",
              "...            ...    ...              ...                 ...        ...   \n",
              "6430         64.88  3.997       192.013558               8.684      False   \n",
              "6431         64.89  3.985       192.170412               8.667      False   \n",
              "6432         54.47  4.000       192.327265               8.667      False   \n",
              "6433         56.47  3.969       192.330854               8.667      False   \n",
              "6434         58.85  3.882       192.308899               8.667      False   \n",
              "\n",
              "     Labor_Day Thanksgiving Christmas  \n",
              "0        False        False     False  \n",
              "1        False        False     False  \n",
              "2        False        False     False  \n",
              "3        False        False     False  \n",
              "4        False        False     False  \n",
              "...        ...          ...       ...  \n",
              "6430     False        False     False  \n",
              "6431     False        False     False  \n",
              "6432     False        False     False  \n",
              "6433     False        False     False  \n",
              "6434     False        False     False  \n",
              "\n",
              "[6435 rows x 12 columns]>"
            ]
          },
          "metadata": {},
          "execution_count": 98
        }
      ],
      "source": [
        "data.head"
      ]
    },
    {
      "cell_type": "code",
      "execution_count": null,
      "metadata": {
        "colab": {
          "base_uri": "https://localhost:8080/",
          "height": 206
        },
        "id": "wLHDlq4GqA4n",
        "outputId": "481aae0a-d182-4c75-fcad-acee87cdfa5d"
      },
      "outputs": [
        {
          "output_type": "execute_result",
          "data": {
            "text/plain": [
              "   Store  Dept        Date  Weekly_Sales  IsHoliday\n",
              "0      1     1  2010-02-05      24924.50      False\n",
              "1      1     1  2010-02-12      46039.49       True\n",
              "2      1     1  2010-02-19      41595.55      False\n",
              "3      1     1  2010-02-26      19403.54      False\n",
              "4      1     1  2010-03-05      21827.90      False"
            ],
            "text/html": [
              "\n",
              "  <div id=\"df-25edb4a0-7aad-47aa-9676-ca4814a88c0c\">\n",
              "    <div class=\"colab-df-container\">\n",
              "      <div>\n",
              "<style scoped>\n",
              "    .dataframe tbody tr th:only-of-type {\n",
              "        vertical-align: middle;\n",
              "    }\n",
              "\n",
              "    .dataframe tbody tr th {\n",
              "        vertical-align: top;\n",
              "    }\n",
              "\n",
              "    .dataframe thead th {\n",
              "        text-align: right;\n",
              "    }\n",
              "</style>\n",
              "<table border=\"1\" class=\"dataframe\">\n",
              "  <thead>\n",
              "    <tr style=\"text-align: right;\">\n",
              "      <th></th>\n",
              "      <th>Store</th>\n",
              "      <th>Dept</th>\n",
              "      <th>Date</th>\n",
              "      <th>Weekly_Sales</th>\n",
              "      <th>IsHoliday</th>\n",
              "    </tr>\n",
              "  </thead>\n",
              "  <tbody>\n",
              "    <tr>\n",
              "      <th>0</th>\n",
              "      <td>1</td>\n",
              "      <td>1</td>\n",
              "      <td>2010-02-05</td>\n",
              "      <td>24924.50</td>\n",
              "      <td>False</td>\n",
              "    </tr>\n",
              "    <tr>\n",
              "      <th>1</th>\n",
              "      <td>1</td>\n",
              "      <td>1</td>\n",
              "      <td>2010-02-12</td>\n",
              "      <td>46039.49</td>\n",
              "      <td>True</td>\n",
              "    </tr>\n",
              "    <tr>\n",
              "      <th>2</th>\n",
              "      <td>1</td>\n",
              "      <td>1</td>\n",
              "      <td>2010-02-19</td>\n",
              "      <td>41595.55</td>\n",
              "      <td>False</td>\n",
              "    </tr>\n",
              "    <tr>\n",
              "      <th>3</th>\n",
              "      <td>1</td>\n",
              "      <td>1</td>\n",
              "      <td>2010-02-26</td>\n",
              "      <td>19403.54</td>\n",
              "      <td>False</td>\n",
              "    </tr>\n",
              "    <tr>\n",
              "      <th>4</th>\n",
              "      <td>1</td>\n",
              "      <td>1</td>\n",
              "      <td>2010-03-05</td>\n",
              "      <td>21827.90</td>\n",
              "      <td>False</td>\n",
              "    </tr>\n",
              "  </tbody>\n",
              "</table>\n",
              "</div>\n",
              "      <button class=\"colab-df-convert\" onclick=\"convertToInteractive('df-25edb4a0-7aad-47aa-9676-ca4814a88c0c')\"\n",
              "              title=\"Convert this dataframe to an interactive table.\"\n",
              "              style=\"display:none;\">\n",
              "        \n",
              "  <svg xmlns=\"http://www.w3.org/2000/svg\" height=\"24px\"viewBox=\"0 0 24 24\"\n",
              "       width=\"24px\">\n",
              "    <path d=\"M0 0h24v24H0V0z\" fill=\"none\"/>\n",
              "    <path d=\"M18.56 5.44l.94 2.06.94-2.06 2.06-.94-2.06-.94-.94-2.06-.94 2.06-2.06.94zm-11 1L8.5 8.5l.94-2.06 2.06-.94-2.06-.94L8.5 2.5l-.94 2.06-2.06.94zm10 10l.94 2.06.94-2.06 2.06-.94-2.06-.94-.94-2.06-.94 2.06-2.06.94z\"/><path d=\"M17.41 7.96l-1.37-1.37c-.4-.4-.92-.59-1.43-.59-.52 0-1.04.2-1.43.59L10.3 9.45l-7.72 7.72c-.78.78-.78 2.05 0 2.83L4 21.41c.39.39.9.59 1.41.59.51 0 1.02-.2 1.41-.59l7.78-7.78 2.81-2.81c.8-.78.8-2.07 0-2.86zM5.41 20L4 18.59l7.72-7.72 1.47 1.35L5.41 20z\"/>\n",
              "  </svg>\n",
              "      </button>\n",
              "      \n",
              "  <style>\n",
              "    .colab-df-container {\n",
              "      display:flex;\n",
              "      flex-wrap:wrap;\n",
              "      gap: 12px;\n",
              "    }\n",
              "\n",
              "    .colab-df-convert {\n",
              "      background-color: #E8F0FE;\n",
              "      border: none;\n",
              "      border-radius: 50%;\n",
              "      cursor: pointer;\n",
              "      display: none;\n",
              "      fill: #1967D2;\n",
              "      height: 32px;\n",
              "      padding: 0 0 0 0;\n",
              "      width: 32px;\n",
              "    }\n",
              "\n",
              "    .colab-df-convert:hover {\n",
              "      background-color: #E2EBFA;\n",
              "      box-shadow: 0px 1px 2px rgba(60, 64, 67, 0.3), 0px 1px 3px 1px rgba(60, 64, 67, 0.15);\n",
              "      fill: #174EA6;\n",
              "    }\n",
              "\n",
              "    [theme=dark] .colab-df-convert {\n",
              "      background-color: #3B4455;\n",
              "      fill: #D2E3FC;\n",
              "    }\n",
              "\n",
              "    [theme=dark] .colab-df-convert:hover {\n",
              "      background-color: #434B5C;\n",
              "      box-shadow: 0px 1px 3px 1px rgba(0, 0, 0, 0.15);\n",
              "      filter: drop-shadow(0px 1px 2px rgba(0, 0, 0, 0.3));\n",
              "      fill: #FFFFFF;\n",
              "    }\n",
              "  </style>\n",
              "\n",
              "      <script>\n",
              "        const buttonEl =\n",
              "          document.querySelector('#df-25edb4a0-7aad-47aa-9676-ca4814a88c0c button.colab-df-convert');\n",
              "        buttonEl.style.display =\n",
              "          google.colab.kernel.accessAllowed ? 'block' : 'none';\n",
              "\n",
              "        async function convertToInteractive(key) {\n",
              "          const element = document.querySelector('#df-25edb4a0-7aad-47aa-9676-ca4814a88c0c');\n",
              "          const dataTable =\n",
              "            await google.colab.kernel.invokeFunction('convertToInteractive',\n",
              "                                                     [key], {});\n",
              "          if (!dataTable) return;\n",
              "\n",
              "          const docLinkHtml = 'Like what you see? Visit the ' +\n",
              "            '<a target=\"_blank\" href=https://colab.research.google.com/notebooks/data_table.ipynb>data table notebook</a>'\n",
              "            + ' to learn more about interactive tables.';\n",
              "          element.innerHTML = '';\n",
              "          dataTable['output_type'] = 'display_data';\n",
              "          await google.colab.output.renderOutput(dataTable, element);\n",
              "          const docLink = document.createElement('div');\n",
              "          docLink.innerHTML = docLinkHtml;\n",
              "          element.appendChild(docLink);\n",
              "        }\n",
              "      </script>\n",
              "    </div>\n",
              "  </div>\n",
              "  "
            ]
          },
          "metadata": {},
          "execution_count": 99
        }
      ],
      "source": [
        "dep.head()"
      ]
    },
    {
      "cell_type": "code",
      "source": [
        "#Como passado no email as datas do feriado, estou fazendo um filtro para conseguir fazer uma analise da vendas médias semanais especificamente em cada feriado\n",
        "# - Super Bowl -> 12-Feb-10 (12/02/2010), 11-Feb-11(11/02/2011), 10-Feb-12(10/02/2012), 8-Feb-13(08/02/2013)\n",
        "# - Labor Day -> 10-Sep-10(10/09/2010), 9-Sep-11(09/09/2011), 7-Sep-12(07/09/2012), 6-Sep-13(06/09/2013)\n",
        "# - Thanksgiving -> 26-Nov-10(26/11/2010), 25-Nov-11(25/11/2011), 23-Nov-12(23/11/2012), 29-Nov-13(29/11/13)\n",
        "# - Christmas -> 31-Dec-10(31/12/2010), 30-Dec-11(30/12/11), 28-Dec-12(28/12/2012), 27-Dec-13(27/12/2013)"
      ],
      "metadata": {
        "id": "_8oe-YSWl5pT"
      },
      "execution_count": null,
      "outputs": []
    },
    {
      "cell_type": "code",
      "source": [
        "# Super bowl dates in train set # - Super Bowl -> 12-Feb-10 (12/02/2010), 11-Feb-11(11/02/2011), 10-Feb-12(10/02/2012), 8-Feb-13(08/02/2013)\n",
        "\n",
        "data.loc[(data['semanas_de_vendas'] == '2010-02-12')|(data['semanas_de_vendas'] == '2011-02-11')|(data['semanas_de_vendas'] == '2012-02-10')|(data['semanas_de_vendas'] == '2013-02-08'),'Super_Bowl'] = True\n",
        "data.loc[(data['semanas_de_vendas'] != '2010-02-12')&(data['semanas_de_vendas'] != '2011-02-11')&(data['semanas_de_vendas'] != '2012-02-10')&(data['semanas_de_vendas'] == '2013-02-08'),'Super_Bowl'] = False"
      ],
      "metadata": {
        "id": "FQIUKLxsg7wq"
      },
      "execution_count": null,
      "outputs": []
    },
    {
      "cell_type": "code",
      "execution_count": null,
      "metadata": {
        "id": "OScjpaKy1RHn"
      },
      "outputs": [],
      "source": [
        "# Labor day dates in train set\n",
        "data.loc[(data['semanas_de_vendas'] == '2010-09-10')|(data['semanas_de_vendas'] == '2011-09-09')|(data['semanas_de_vendas'] == '2012-09-07')|(data['semanas_de_vendas'] == '2013-09-13'),'Labor_Day'] = True\n",
        "data.loc[(data['semanas_de_vendas'] != '2010-09-10')&(data['semanas_de_vendas'] != '2011-09-09')&(data['semanas_de_vendas'] != '2012-09-07')&(data['semanas_de_vendas'] == '2013-09-13'),'Labor_Day'] = False"
      ]
    },
    {
      "cell_type": "code",
      "execution_count": null,
      "metadata": {
        "id": "gY7-MEd8sAgg"
      },
      "outputs": [],
      "source": [
        "# Thanksgiving dates in train set\n",
        "data.loc[(data['semanas_de_vendas'] == '2010-11-26')|(data['semanas_de_vendas'] == '2011-11-25')|(data['semanas_de_vendas'] == '2012-11-23')|(data['semanas_de_vendas'] == '2013-11-29'),'Thanksgiving'] = True\n",
        "data.loc[(data['semanas_de_vendas'] != '2010-11-26')&(data['semanas_de_vendas'] != '2011-11-25')&(data['semanas_de_vendas'] == '2012-11-23')&(data['semanas_de_vendas'] == '2013-11-29'),'Thanksgiving'] = False"
      ]
    },
    {
      "cell_type": "code",
      "execution_count": null,
      "metadata": {
        "id": "ACN-KkNCsIi2"
      },
      "outputs": [],
      "source": [
        "#Christmas dates in train set# - Christmas -> 31-Dec-10(31/12/2010), 30-Dec-11(30/12/11), 28-Dec-12(28/12/2012), 27-Dec-13(27/12/2013)\n",
        "data.loc[(data['semanas_de_vendas'] == '2010-12-31')|(data['semanas_de_vendas'] == '2011-12-30')|(data['semanas_de_vendas'] == '2012-12-28')|(data['semanas_de_vendas'] == '2013-12-27'),'Christmas'] = True\n",
        "data.loc[(data['semanas_de_vendas'] != '2010-12-31')&(data['semanas_de_vendas'] != '2011-12-30')&(data['semanas_de_vendas'] == '2012-12-28')&(data['semanas_de_vendas'] == '2013-12-27'),'Christmas'] = False"
      ]
    },
    {
      "cell_type": "code",
      "source": [
        "sb.barplot(x='Labor_Day', y='vendas_por_loja', data=data) # Labor_Day vs not Labor_Day"
      ],
      "metadata": {
        "colab": {
          "base_uri": "https://localhost:8080/",
          "height": 308
        },
        "id": "vPGJx87lgDS3",
        "outputId": "9d3ff4f0-b417-4665-9399-44ebf1318a70"
      },
      "execution_count": null,
      "outputs": [
        {
          "output_type": "execute_result",
          "data": {
            "text/plain": [
              "<matplotlib.axes._subplots.AxesSubplot at 0x7fd1e41b5b80>"
            ]
          },
          "metadata": {},
          "execution_count": 128
        },
        {
          "output_type": "display_data",
          "data": {
            "text/plain": [
              "<Figure size 432x288 with 1 Axes>"
            ],
            "image/png": "[encoded data removed]"
          },
          "metadata": {
            "needs_background": "light"
          }
        }
      ]
    },
    {
      "cell_type": "code",
      "source": [
        "sb.barplot(x='Thanksgiving', y='vendas_por_loja', data=data) # Thanksgiving  vs not Thanksgiving"
      ],
      "metadata": {
        "colab": {
          "base_uri": "https://localhost:8080/",
          "height": 307
        },
        "id": "B08IH8gEgDL3",
        "outputId": "4c4904eb-667c-4723-a461-fcc59845c064"
      },
      "execution_count": null,
      "outputs": [
        {
          "output_type": "execute_result",
          "data": {
            "text/plain": [
              "<matplotlib.axes._subplots.AxesSubplot at 0x7fd1e40dcf40>"
            ]
          },
          "metadata": {},
          "execution_count": 129
        },
        {
          "output_type": "display_data",
          "data": {
            "text/plain": [
              "<Figure size 432x288 with 1 Axes>"
            ],
            "image/png": "[encoded data removed]"
          },
          "metadata": {
            "needs_background": "light"
          }
        }
      ]
    },
    {
      "cell_type": "code",
      "source": [
        "sb.barplot(x='Christmas', y='vendas_por_loja', data=data) # Christmas  vs not Christmas"
      ],
      "metadata": {
        "colab": {
          "base_uri": "https://localhost:8080/",
          "height": 307
        },
        "id": "OQooeXWkgDEC",
        "outputId": "c770061c-e747-4261-b4d9-f96193702d5e"
      },
      "execution_count": null,
      "outputs": [
        {
          "output_type": "execute_result",
          "data": {
            "text/plain": [
              "<matplotlib.axes._subplots.AxesSubplot at 0x7fd1e40e0250>"
            ]
          },
          "metadata": {},
          "execution_count": 130
        },
        {
          "output_type": "display_data",
          "data": {
            "text/plain": [
              "<Figure size 432x288 with 1 Axes>"
            ],
            "image/png": "[encoded data removed]"
          },
          "metadata": {
            "needs_background": "light"
          }
        }
      ]
    },
    {
      "cell_type": "markdown",
      "metadata": {
        "id": "PE-BKIw1gF0Q"
      },
      "source": [
        "A partir dos gráficos acima, podemos inferir que Labor Day não a aumento das vendas, assim o feriado não tem forte impacto nas vendas.\n",
        "\n",
        "Já em Thanksgiving, podemos observar uma grande diferença no número de vendas. Um impacto positivo dos feriados nas vendas semanais.\n",
        "\n",
        "Diferentemente ao Christmas, em que a uma pequena diferença nas vendas de forma negativa, resultado que indica um comportamento de compra antecipada dos consumidores.\n"
      ]
    },
    {
      "cell_type": "markdown",
      "metadata": {
        "id": "nCjiluN7X5YT"
      },
      "source": [
        "##Existe algum setor que desempenhe melhor?\n"
      ]
    },
    {
      "cell_type": "code",
      "execution_count": null,
      "metadata": {
        "colab": {
          "base_uri": "https://localhost:8080/",
          "height": 206
        },
        "id": "2U-HYlv2YHwQ",
        "outputId": "0ec6e8ca-e6bf-45ca-9626-1478e5e8e2a9"
      },
      "outputs": [
        {
          "output_type": "execute_result",
          "data": {
            "text/plain": [
              "   Store  Dept        Date  Weekly_Sales  IsHoliday\n",
              "0      1     1  2010-02-05      24924.50      False\n",
              "1      1     1  2010-02-12      46039.49       True\n",
              "2      1     1  2010-02-19      41595.55      False\n",
              "3      1     1  2010-02-26      19403.54      False\n",
              "4      1     1  2010-03-05      21827.90      False"
            ],
            "text/html": [
              "\n",
              "  <div id=\"df-e9ff067f-cb7d-4f8d-ae51-c19b4ee53698\">\n",
              "    <div class=\"colab-df-container\">\n",
              "      <div>\n",
              "<style scoped>\n",
              "    .dataframe tbody tr th:only-of-type {\n",
              "        vertical-align: middle;\n",
              "    }\n",
              "\n",
              "    .dataframe tbody tr th {\n",
              "        vertical-align: top;\n",
              "    }\n",
              "\n",
              "    .dataframe thead th {\n",
              "        text-align: right;\n",
              "    }\n",
              "</style>\n",
              "<table border=\"1\" class=\"dataframe\">\n",
              "  <thead>\n",
              "    <tr style=\"text-align: right;\">\n",
              "      <th></th>\n",
              "      <th>Store</th>\n",
              "      <th>Dept</th>\n",
              "      <th>Date</th>\n",
              "      <th>Weekly_Sales</th>\n",
              "      <th>IsHoliday</th>\n",
              "    </tr>\n",
              "  </thead>\n",
              "  <tbody>\n",
              "    <tr>\n",
              "      <th>0</th>\n",
              "      <td>1</td>\n",
              "      <td>1</td>\n",
              "      <td>2010-02-05</td>\n",
              "      <td>24924.50</td>\n",
              "      <td>False</td>\n",
              "    </tr>\n",
              "    <tr>\n",
              "      <th>1</th>\n",
              "      <td>1</td>\n",
              "      <td>1</td>\n",
              "      <td>2010-02-12</td>\n",
              "      <td>46039.49</td>\n",
              "      <td>True</td>\n",
              "    </tr>\n",
              "    <tr>\n",
              "      <th>2</th>\n",
              "      <td>1</td>\n",
              "      <td>1</td>\n",
              "      <td>2010-02-19</td>\n",
              "      <td>41595.55</td>\n",
              "      <td>False</td>\n",
              "    </tr>\n",
              "    <tr>\n",
              "      <th>3</th>\n",
              "      <td>1</td>\n",
              "      <td>1</td>\n",
              "      <td>2010-02-26</td>\n",
              "      <td>19403.54</td>\n",
              "      <td>False</td>\n",
              "    </tr>\n",
              "    <tr>\n",
              "      <th>4</th>\n",
              "      <td>1</td>\n",
              "      <td>1</td>\n",
              "      <td>2010-03-05</td>\n",
              "      <td>21827.90</td>\n",
              "      <td>False</td>\n",
              "    </tr>\n",
              "  </tbody>\n",
              "</table>\n",
              "</div>\n",
              "      <button class=\"colab-df-convert\" onclick=\"convertToInteractive('df-e9ff067f-cb7d-4f8d-ae51-c19b4ee53698')\"\n",
              "              title=\"Convert this dataframe to an interactive table.\"\n",
              "              style=\"display:none;\">\n",
              "        \n",
              "  <svg xmlns=\"http://www.w3.org/2000/svg\" height=\"24px\"viewBox=\"0 0 24 24\"\n",
              "       width=\"24px\">\n",
              "    <path d=\"M0 0h24v24H0V0z\" fill=\"none\"/>\n",
              "    <path d=\"M18.56 5.44l.94 2.06.94-2.06 2.06-.94-2.06-.94-.94-2.06-.94 2.06-2.06.94zm-11 1L8.5 8.5l.94-2.06 2.06-.94-2.06-.94L8.5 2.5l-.94 2.06-2.06.94zm10 10l.94 2.06.94-2.06 2.06-.94-2.06-.94-.94-2.06-.94 2.06-2.06.94z\"/><path d=\"M17.41 7.96l-1.37-1.37c-.4-.4-.92-.59-1.43-.59-.52 0-1.04.2-1.43.59L10.3 9.45l-7.72 7.72c-.78.78-.78 2.05 0 2.83L4 21.41c.39.39.9.59 1.41.59.51 0 1.02-.2 1.41-.59l7.78-7.78 2.81-2.81c.8-.78.8-2.07 0-2.86zM5.41 20L4 18.59l7.72-7.72 1.47 1.35L5.41 20z\"/>\n",
              "  </svg>\n",
              "      </button>\n",
              "      \n",
              "  <style>\n",
              "    .colab-df-container {\n",
              "      display:flex;\n",
              "      flex-wrap:wrap;\n",
              "      gap: 12px;\n",
              "    }\n",
              "\n",
              "    .colab-df-convert {\n",
              "      background-color: #E8F0FE;\n",
              "      border: none;\n",
              "      border-radius: 50%;\n",
              "      cursor: pointer;\n",
              "      display: none;\n",
              "      fill: #1967D2;\n",
              "      height: 32px;\n",
              "      padding: 0 0 0 0;\n",
              "      width: 32px;\n",
              "    }\n",
              "\n",
              "    .colab-df-convert:hover {\n",
              "      background-color: #E2EBFA;\n",
              "      box-shadow: 0px 1px 2px rgba(60, 64, 67, 0.3), 0px 1px 3px 1px rgba(60, 64, 67, 0.15);\n",
              "      fill: #174EA6;\n",
              "    }\n",
              "\n",
              "    [theme=dark] .colab-df-convert {\n",
              "      background-color: #3B4455;\n",
              "      fill: #D2E3FC;\n",
              "    }\n",
              "\n",
              "    [theme=dark] .colab-df-convert:hover {\n",
              "      background-color: #434B5C;\n",
              "      box-shadow: 0px 1px 3px 1px rgba(0, 0, 0, 0.15);\n",
              "      filter: drop-shadow(0px 1px 2px rgba(0, 0, 0, 0.3));\n",
              "      fill: #FFFFFF;\n",
              "    }\n",
              "  </style>\n",
              "\n",
              "      <script>\n",
              "        const buttonEl =\n",
              "          document.querySelector('#df-e9ff067f-cb7d-4f8d-ae51-c19b4ee53698 button.colab-df-convert');\n",
              "        buttonEl.style.display =\n",
              "          google.colab.kernel.accessAllowed ? 'block' : 'none';\n",
              "\n",
              "        async function convertToInteractive(key) {\n",
              "          const element = document.querySelector('#df-e9ff067f-cb7d-4f8d-ae51-c19b4ee53698');\n",
              "          const dataTable =\n",
              "            await google.colab.kernel.invokeFunction('convertToInteractive',\n",
              "                                                     [key], {});\n",
              "          if (!dataTable) return;\n",
              "\n",
              "          const docLinkHtml = 'Like what you see? Visit the ' +\n",
              "            '<a target=\"_blank\" href=https://colab.research.google.com/notebooks/data_table.ipynb>data table notebook</a>'\n",
              "            + ' to learn more about interactive tables.';\n",
              "          element.innerHTML = '';\n",
              "          dataTable['output_type'] = 'display_data';\n",
              "          await google.colab.output.renderOutput(dataTable, element);\n",
              "          const docLink = document.createElement('div');\n",
              "          docLink.innerHTML = docLinkHtml;\n",
              "          element.appendChild(docLink);\n",
              "        }\n",
              "      </script>\n",
              "    </div>\n",
              "  </div>\n",
              "  "
            ]
          },
          "metadata": {},
          "execution_count": 80
        }
      ],
      "source": [
        "dep.head()"
      ]
    },
    {
      "cell_type": "code",
      "source": [],
      "metadata": {
        "id": "M3n5wdUM5HIY"
      },
      "execution_count": null,
      "outputs": []
    },
    {
      "cell_type": "code",
      "execution_count": null,
      "metadata": {
        "colab": {
          "base_uri": "https://localhost:8080/",
          "height": 357
        },
        "id": "r5bTnOHT-GNC",
        "outputId": "9e4c25c4-a25a-4b8a-95fb-67a0b3131320"
      },
      "outputs": [
        {
          "output_type": "display_data",
          "data": {
            "text/plain": [
              "<Figure size 1440x360 with 1 Axes>"
            ],
            "image/png": "[encoded data removed]"
          },
          "metadata": {
            "needs_background": "light"
          }
        }
      ],
      "source": [
        "plot = sb.barplot(x='Dept', y='Weekly_Sales', data=dep)\n",
        "plot.figure.set_size_inches(20, 5)"
      ]
    },
    {
      "cell_type": "markdown",
      "metadata": {
        "id": "UwoyL6b5ROiA"
      },
      "source": [
        "A partir do gráfico verifica-se que o departamento 92 tem uma média de vendas superior."
      ]
    },
    {
      "cell_type": "markdown",
      "metadata": {
        "id": "rJou8lWOX8R3"
      },
      "source": [
        "##É possível estimar as vendas das lojas por semana em datas futuras de 2012–11–02 a 2013–07-26? Se sim, quais seriam esses valores?"
      ]
    },
    {
      "cell_type": "code",
      "execution_count": null,
      "metadata": {
        "id": "agE3wIHPalB1"
      },
      "outputs": [],
      "source": [
        "# Transformação de Date em formato de datetime\n",
        "data['semanas_de_vendas'] = pd.to_datetime(data.semanas_de_vendas, infer_datetime_format=True)\n",
        "\n",
        "#utilizando o pandas para inferir qual deve ser o formato correto"
      ]
    },
    {
      "cell_type": "code",
      "execution_count": null,
      "metadata": {
        "colab": {
          "base_uri": "https://localhost:8080/",
          "height": 206
        },
        "id": "QVNh4fkSaxdm",
        "outputId": "6ba88377-3815-4764-906b-40bd9c28fd9a"
      },
      "outputs": [
        {
          "output_type": "execute_result",
          "data": {
            "text/plain": [
              "          ds            y\n",
              "0 2010-01-10  42239875.87\n",
              "1 2010-02-04  50423831.26\n",
              "2 2010-02-07  48917484.50\n",
              "3 2010-02-19  48276993.78\n",
              "4 2010-02-26  43968571.13"
            ],
            "text/html": [
              "\n",
              "  <div id=\"df-1e94c1af-8881-4245-a2ab-f6e0719a2c96\">\n",
              "    <div class=\"colab-df-container\">\n",
              "      <div>\n",
              "<style scoped>\n",
              "    .dataframe tbody tr th:only-of-type {\n",
              "        vertical-align: middle;\n",
              "    }\n",
              "\n",
              "    .dataframe tbody tr th {\n",
              "        vertical-align: top;\n",
              "    }\n",
              "\n",
              "    .dataframe thead th {\n",
              "        text-align: right;\n",
              "    }\n",
              "</style>\n",
              "<table border=\"1\" class=\"dataframe\">\n",
              "  <thead>\n",
              "    <tr style=\"text-align: right;\">\n",
              "      <th></th>\n",
              "      <th>ds</th>\n",
              "      <th>y</th>\n",
              "    </tr>\n",
              "  </thead>\n",
              "  <tbody>\n",
              "    <tr>\n",
              "      <th>0</th>\n",
              "      <td>2010-01-10</td>\n",
              "      <td>42239875.87</td>\n",
              "    </tr>\n",
              "    <tr>\n",
              "      <th>1</th>\n",
              "      <td>2010-02-04</td>\n",
              "      <td>50423831.26</td>\n",
              "    </tr>\n",
              "    <tr>\n",
              "      <th>2</th>\n",
              "      <td>2010-02-07</td>\n",
              "      <td>48917484.50</td>\n",
              "    </tr>\n",
              "    <tr>\n",
              "      <th>3</th>\n",
              "      <td>2010-02-19</td>\n",
              "      <td>48276993.78</td>\n",
              "    </tr>\n",
              "    <tr>\n",
              "      <th>4</th>\n",
              "      <td>2010-02-26</td>\n",
              "      <td>43968571.13</td>\n",
              "    </tr>\n",
              "  </tbody>\n",
              "</table>\n",
              "</div>\n",
              "      <button class=\"colab-df-convert\" onclick=\"convertToInteractive('df-1e94c1af-8881-4245-a2ab-f6e0719a2c96')\"\n",
              "              title=\"Convert this dataframe to an interactive table.\"\n",
              "              style=\"display:none;\">\n",
              "        \n",
              "  <svg xmlns=\"http://www.w3.org/2000/svg\" height=\"24px\"viewBox=\"0 0 24 24\"\n",
              "       width=\"24px\">\n",
              "    <path d=\"M0 0h24v24H0V0z\" fill=\"none\"/>\n",
              "    <path d=\"M18.56 5.44l.94 2.06.94-2.06 2.06-.94-2.06-.94-.94-2.06-.94 2.06-2.06.94zm-11 1L8.5 8.5l.94-2.06 2.06-.94-2.06-.94L8.5 2.5l-.94 2.06-2.06.94zm10 10l.94 2.06.94-2.06 2.06-.94-2.06-.94-.94-2.06-.94 2.06-2.06.94z\"/><path d=\"M17.41 7.96l-1.37-1.37c-.4-.4-.92-.59-1.43-.59-.52 0-1.04.2-1.43.59L10.3 9.45l-7.72 7.72c-.78.78-.78 2.05 0 2.83L4 21.41c.39.39.9.59 1.41.59.51 0 1.02-.2 1.41-.59l7.78-7.78 2.81-2.81c.8-.78.8-2.07 0-2.86zM5.41 20L4 18.59l7.72-7.72 1.47 1.35L5.41 20z\"/>\n",
              "  </svg>\n",
              "      </button>\n",
              "      \n",
              "  <style>\n",
              "    .colab-df-container {\n",
              "      display:flex;\n",
              "      flex-wrap:wrap;\n",
              "      gap: 12px;\n",
              "    }\n",
              "\n",
              "    .colab-df-convert {\n",
              "      background-color: #E8F0FE;\n",
              "      border: none;\n",
              "      border-radius: 50%;\n",
              "      cursor: pointer;\n",
              "      display: none;\n",
              "      fill: #1967D2;\n",
              "      height: 32px;\n",
              "      padding: 0 0 0 0;\n",
              "      width: 32px;\n",
              "    }\n",
              "\n",
              "    .colab-df-convert:hover {\n",
              "      background-color: #E2EBFA;\n",
              "      box-shadow: 0px 1px 2px rgba(60, 64, 67, 0.3), 0px 1px 3px 1px rgba(60, 64, 67, 0.15);\n",
              "      fill: #174EA6;\n",
              "    }\n",
              "\n",
              "    [theme=dark] .colab-df-convert {\n",
              "      background-color: #3B4455;\n",
              "      fill: #D2E3FC;\n",
              "    }\n",
              "\n",
              "    [theme=dark] .colab-df-convert:hover {\n",
              "      background-color: #434B5C;\n",
              "      box-shadow: 0px 1px 3px 1px rgba(0, 0, 0, 0.15);\n",
              "      filter: drop-shadow(0px 1px 2px rgba(0, 0, 0, 0.3));\n",
              "      fill: #FFFFFF;\n",
              "    }\n",
              "  </style>\n",
              "\n",
              "      <script>\n",
              "        const buttonEl =\n",
              "          document.querySelector('#df-1e94c1af-8881-4245-a2ab-f6e0719a2c96 button.colab-df-convert');\n",
              "        buttonEl.style.display =\n",
              "          google.colab.kernel.accessAllowed ? 'block' : 'none';\n",
              "\n",
              "        async function convertToInteractive(key) {\n",
              "          const element = document.querySelector('#df-1e94c1af-8881-4245-a2ab-f6e0719a2c96');\n",
              "          const dataTable =\n",
              "            await google.colab.kernel.invokeFunction('convertToInteractive',\n",
              "                                                     [key], {});\n",
              "          if (!dataTable) return;\n",
              "\n",
              "          const docLinkHtml = 'Like what you see? Visit the ' +\n",
              "            '<a target=\"_blank\" href=https://colab.research.google.com/notebooks/data_table.ipynb>data table notebook</a>'\n",
              "            + ' to learn more about interactive tables.';\n",
              "          element.innerHTML = '';\n",
              "          dataTable['output_type'] = 'display_data';\n",
              "          await google.colab.output.renderOutput(dataTable, element);\n",
              "          const docLink = document.createElement('div');\n",
              "          docLink.innerHTML = docLinkHtml;\n",
              "          element.appendChild(docLink);\n",
              "        }\n",
              "      </script>\n",
              "    </div>\n",
              "  </div>\n",
              "  "
            ]
          },
          "metadata": {},
          "execution_count": 181
        }
      ],
      "source": [
        "# Tabela com acessos por mês e ano\n",
        "vendas_semanal = data[['semanas_de_vendas','vendas_por_loja']]\\\n",
        "  .groupby(['semanas_de_vendas'], as_index = True)\\\n",
        "  .sum()\\\n",
        "  .reset_index()\\\n",
        "  .sort_values(['semanas_de_vendas'], ascending=True)\\\n",
        "  .rename(columns={\"semanas_de_vendas\": \"ds\", \"vendas_por_loja\": \"y\"})\n",
        "\n",
        "# Espiando o resultado do agrupamento\n",
        "vendas_semanal.head()"
      ]
    },
    {
      "cell_type": "code",
      "source": [
        "vendas_semanal.tail()"
      ],
      "metadata": {
        "colab": {
          "base_uri": "https://localhost:8080/",
          "height": 206
        },
        "id": "6pohdCMEBV-i",
        "outputId": "470b286e-3b68-44c5-d154-2bfdd4def5d7"
      },
      "execution_count": null,
      "outputs": [
        {
          "output_type": "execute_result",
          "data": {
            "text/plain": [
              "            ds            y\n",
              "138 2012-10-08  47403451.04\n",
              "139 2012-10-19  45122410.57\n",
              "140 2012-10-26  45544116.29\n",
              "141 2012-11-05  46925878.99\n",
              "142 2012-12-10  46128514.25"
            ],
            "text/html": [
              "\n",
              "  <div id=\"df-ea82dfc6-57eb-4abd-8545-783dc47943e4\">\n",
              "    <div class=\"colab-df-container\">\n",
              "      <div>\n",
              "<style scoped>\n",
              "    .dataframe tbody tr th:only-of-type {\n",
              "        vertical-align: middle;\n",
              "    }\n",
              "\n",
              "    .dataframe tbody tr th {\n",
              "        vertical-align: top;\n",
              "    }\n",
              "\n",
              "    .dataframe thead th {\n",
              "        text-align: right;\n",
              "    }\n",
              "</style>\n",
              "<table border=\"1\" class=\"dataframe\">\n",
              "  <thead>\n",
              "    <tr style=\"text-align: right;\">\n",
              "      <th></th>\n",
              "      <th>ds</th>\n",
              "      <th>y</th>\n",
              "    </tr>\n",
              "  </thead>\n",
              "  <tbody>\n",
              "    <tr>\n",
              "      <th>138</th>\n",
              "      <td>2012-10-08</td>\n",
              "      <td>47403451.04</td>\n",
              "    </tr>\n",
              "    <tr>\n",
              "      <th>139</th>\n",
              "      <td>2012-10-19</td>\n",
              "      <td>45122410.57</td>\n",
              "    </tr>\n",
              "    <tr>\n",
              "      <th>140</th>\n",
              "      <td>2012-10-26</td>\n",
              "      <td>45544116.29</td>\n",
              "    </tr>\n",
              "    <tr>\n",
              "      <th>141</th>\n",
              "      <td>2012-11-05</td>\n",
              "      <td>46925878.99</td>\n",
              "    </tr>\n",
              "    <tr>\n",
              "      <th>142</th>\n",
              "      <td>2012-12-10</td>\n",
              "      <td>46128514.25</td>\n",
              "    </tr>\n",
              "  </tbody>\n",
              "</table>\n",
              "</div>\n",
              "      <button class=\"colab-df-convert\" onclick=\"convertToInteractive('df-ea82dfc6-57eb-4abd-8545-783dc47943e4')\"\n",
              "              title=\"Convert this dataframe to an interactive table.\"\n",
              "              style=\"display:none;\">\n",
              "        \n",
              "  <svg xmlns=\"http://www.w3.org/2000/svg\" height=\"24px\"viewBox=\"0 0 24 24\"\n",
              "       width=\"24px\">\n",
              "    <path d=\"M0 0h24v24H0V0z\" fill=\"none\"/>\n",
              "    <path d=\"M18.56 5.44l.94 2.06.94-2.06 2.06-.94-2.06-.94-.94-2.06-.94 2.06-2.06.94zm-11 1L8.5 8.5l.94-2.06 2.06-.94-2.06-.94L8.5 2.5l-.94 2.06-2.06.94zm10 10l.94 2.06.94-2.06 2.06-.94-2.06-.94-.94-2.06-.94 2.06-2.06.94z\"/><path d=\"M17.41 7.96l-1.37-1.37c-.4-.4-.92-.59-1.43-.59-.52 0-1.04.2-1.43.59L10.3 9.45l-7.72 7.72c-.78.78-.78 2.05 0 2.83L4 21.41c.39.39.9.59 1.41.59.51 0 1.02-.2 1.41-.59l7.78-7.78 2.81-2.81c.8-.78.8-2.07 0-2.86zM5.41 20L4 18.59l7.72-7.72 1.47 1.35L5.41 20z\"/>\n",
              "  </svg>\n",
              "      </button>\n",
              "      \n",
              "  <style>\n",
              "    .colab-df-container {\n",
              "      display:flex;\n",
              "      flex-wrap:wrap;\n",
              "      gap: 12px;\n",
              "    }\n",
              "\n",
              "    .colab-df-convert {\n",
              "      background-color: #E8F0FE;\n",
              "      border: none;\n",
              "      border-radius: 50%;\n",
              "      cursor: pointer;\n",
              "      display: none;\n",
              "      fill: #1967D2;\n",
              "      height: 32px;\n",
              "      padding: 0 0 0 0;\n",
              "      width: 32px;\n",
              "    }\n",
              "\n",
              "    .colab-df-convert:hover {\n",
              "      background-color: #E2EBFA;\n",
              "      box-shadow: 0px 1px 2px rgba(60, 64, 67, 0.3), 0px 1px 3px 1px rgba(60, 64, 67, 0.15);\n",
              "      fill: #174EA6;\n",
              "    }\n",
              "\n",
              "    [theme=dark] .colab-df-convert {\n",
              "      background-color: #3B4455;\n",
              "      fill: #D2E3FC;\n",
              "    }\n",
              "\n",
              "    [theme=dark] .colab-df-convert:hover {\n",
              "      background-color: #434B5C;\n",
              "      box-shadow: 0px 1px 3px 1px rgba(0, 0, 0, 0.15);\n",
              "      filter: drop-shadow(0px 1px 2px rgba(0, 0, 0, 0.3));\n",
              "      fill: #FFFFFF;\n",
              "    }\n",
              "  </style>\n",
              "\n",
              "      <script>\n",
              "        const buttonEl =\n",
              "          document.querySelector('#df-ea82dfc6-57eb-4abd-8545-783dc47943e4 button.colab-df-convert');\n",
              "        buttonEl.style.display =\n",
              "          google.colab.kernel.accessAllowed ? 'block' : 'none';\n",
              "\n",
              "        async function convertToInteractive(key) {\n",
              "          const element = document.querySelector('#df-ea82dfc6-57eb-4abd-8545-783dc47943e4');\n",
              "          const dataTable =\n",
              "            await google.colab.kernel.invokeFunction('convertToInteractive',\n",
              "                                                     [key], {});\n",
              "          if (!dataTable) return;\n",
              "\n",
              "          const docLinkHtml = 'Like what you see? Visit the ' +\n",
              "            '<a target=\"_blank\" href=https://colab.research.google.com/notebooks/data_table.ipynb>data table notebook</a>'\n",
              "            + ' to learn more about interactive tables.';\n",
              "          element.innerHTML = '';\n",
              "          dataTable['output_type'] = 'display_data';\n",
              "          await google.colab.output.renderOutput(dataTable, element);\n",
              "          const docLink = document.createElement('div');\n",
              "          docLink.innerHTML = docLinkHtml;\n",
              "          element.appendChild(docLink);\n",
              "        }\n",
              "      </script>\n",
              "    </div>\n",
              "  </div>\n",
              "  "
            ]
          },
          "metadata": {},
          "execution_count": 182
        }
      ]
    },
    {
      "cell_type": "code",
      "execution_count": null,
      "metadata": {
        "colab": {
          "base_uri": "https://localhost:8080/"
        },
        "id": "mfmgmgJ4bALa",
        "outputId": "66e5579d-5b1e-4d87-de1c-a3a94b74403b"
      },
      "outputs": [
        {
          "output_type": "stream",
          "name": "stderr",
          "text": [
            "INFO:prophet:Disabling daily seasonality. Run prophet with daily_seasonality=True to override this.\n",
            "DEBUG:cmdstanpy:input tempfile: /tmp/tmp0fdf3a38/y7mt1g0y.json\n",
            "DEBUG:cmdstanpy:input tempfile: /tmp/tmp0fdf3a38/490abryf.json\n",
            "DEBUG:cmdstanpy:idx 0\n",
            "DEBUG:cmdstanpy:running CmdStan, num_threads: None\n",
            "DEBUG:cmdstanpy:CmdStan args: ['/usr/local/lib/python3.8/dist-packages/prophet/stan_model/prophet_model.bin', 'random', 'seed=57959', 'data', 'file=/tmp/tmp0fdf3a38/y7mt1g0y.json', 'init=/tmp/tmp0fdf3a38/490abryf.json', 'output', 'file=/tmp/tmp0fdf3a38/prophet_modelwvzasjub/prophet_model-20221223131423.csv', 'method=optimize', 'algorithm=lbfgs', 'iter=10000']\n",
            "13:14:23 - cmdstanpy - INFO - Chain [1] start processing\n",
            "INFO:cmdstanpy:Chain [1] start processing\n",
            "13:14:23 - cmdstanpy - INFO - Chain [1] done processing\n",
            "INFO:cmdstanpy:Chain [1] done processing\n"
          ]
        },
        {
          "output_type": "execute_result",
          "data": {
            "text/plain": [
              "<prophet.forecaster.Prophet at 0x7fd1e41b5250>"
            ]
          },
          "metadata": {},
          "execution_count": 183
        }
      ],
      "source": [
        "# Criando o modelo preditivo\n",
        "modelo = Prophet()\n",
        "# Ajustando o modelo aos dados\n",
        "modelo.fit(vendas_semanal)\n",
        "\n",
        "#fit serve para treinar modelo de dados\n",
        "#vendo vieses de comportamento de dados"
      ]
    },
    {
      "cell_type": "code",
      "execution_count": null,
      "metadata": {
        "id": "57OPJzO28KbU"
      },
      "outputs": [],
      "source": [
        "# Criando o dataframe que vai receber as previsões através da função ‘make_future_dataframe’,\n",
        "# onde devemos colocar quantos períodos à frente dos dados de treino, a frequência dos dados\n",
        "# (se anual , mensal, diário, ou no caso dos dados que estamos trabalhando semanal), \n",
        "# e também definir se deseja estimar o dados através do modelo no período de treino (o default é True):\n",
        "\n",
        "\n",
        "st_futuro = modelo.make_future_dataframe(\n",
        "    periods= 30, \n",
        "    freq = 'w', \n",
        "    include_history = True\n",
        "\n",
        ")"
      ]
    },
    {
      "cell_type": "code",
      "execution_count": null,
      "metadata": {
        "id": "MZdqgkKBcRx3"
      },
      "outputs": [],
      "source": [
        "# Realizando as previsões\n",
        "previsao = modelo.predict(st_futuro)"
      ]
    },
    {
      "cell_type": "code",
      "execution_count": null,
      "metadata": {
        "colab": {
          "base_uri": "https://localhost:8080/",
          "height": 357
        },
        "id": "VmF88jyc9DoP",
        "outputId": "a7c20085-245c-4076-daec-8eedd2c09c4e"
      },
      "outputs": [
        {
          "output_type": "execute_result",
          "data": {
            "text/plain": [
              "            ds         trend    yhat_lower    yhat_upper   trend_lower  \\\n",
              "168 2013-06-09  4.782741e+07  4.475025e+07  5.497563e+07  4.782736e+07   \n",
              "169 2013-06-16  4.783023e+07  4.486959e+07  5.549660e+07  4.783018e+07   \n",
              "170 2013-06-23  4.783305e+07  4.483837e+07  5.534150e+07  4.783300e+07   \n",
              "171 2013-06-30  4.783587e+07  4.314084e+07  5.382721e+07  4.783582e+07   \n",
              "172 2013-07-07  4.783869e+07  4.166913e+07  5.240280e+07  4.783864e+07   \n",
              "\n",
              "      trend_upper  additive_terms  additive_terms_lower  additive_terms_upper  \\\n",
              "168  4.782745e+07    1.853452e+06          1.853452e+06          1.853452e+06   \n",
              "169  4.783027e+07    2.285975e+06          2.285975e+06          2.285975e+06   \n",
              "170  4.783310e+07    2.090921e+06          2.090921e+06          2.090921e+06   \n",
              "171  4.783592e+07    8.578526e+05          8.578526e+05          8.578526e+05   \n",
              "172  4.783874e+07   -4.809759e+05         -4.809759e+05         -4.809759e+05   \n",
              "\n",
              "           weekly  weekly_lower  weekly_upper        yearly  yearly_lower  \\\n",
              "168  1.635780e+06  1.635780e+06  1.635780e+06  2.176716e+05  2.176716e+05   \n",
              "169  1.635780e+06  1.635780e+06  1.635780e+06  6.501946e+05  6.501946e+05   \n",
              "170  1.635780e+06  1.635780e+06  1.635780e+06  4.551410e+05  4.551410e+05   \n",
              "171  1.635780e+06  1.635780e+06  1.635780e+06 -7.779275e+05 -7.779275e+05   \n",
              "172  1.635780e+06  1.635780e+06  1.635780e+06 -2.116756e+06 -2.116756e+06   \n",
              "\n",
              "     yearly_upper  multiplicative_terms  multiplicative_terms_lower  \\\n",
              "168  2.176716e+05                   0.0                         0.0   \n",
              "169  6.501946e+05                   0.0                         0.0   \n",
              "170  4.551410e+05                   0.0                         0.0   \n",
              "171 -7.779275e+05                   0.0                         0.0   \n",
              "172 -2.116756e+06                   0.0                         0.0   \n",
              "\n",
              "     multiplicative_terms_upper          yhat  \n",
              "168                         0.0  4.968086e+07  \n",
              "169                         0.0  5.011620e+07  \n",
              "170                         0.0  4.992397e+07  \n",
              "171                         0.0  4.869372e+07  \n",
              "172                         0.0  4.735772e+07  "
            ],
            "text/html": [
              "\n",
              "  <div id=\"df-24b426d6-0e0f-4915-a7ea-891867d7c914\">\n",
              "    <div class=\"colab-df-container\">\n",
              "      <div>\n",
              "<style scoped>\n",
              "    .dataframe tbody tr th:only-of-type {\n",
              "        vertical-align: middle;\n",
              "    }\n",
              "\n",
              "    .dataframe tbody tr th {\n",
              "        vertical-align: top;\n",
              "    }\n",
              "\n",
              "    .dataframe thead th {\n",
              "        text-align: right;\n",
              "    }\n",
              "</style>\n",
              "<table border=\"1\" class=\"dataframe\">\n",
              "  <thead>\n",
              "    <tr style=\"text-align: right;\">\n",
              "      <th></th>\n",
              "      <th>ds</th>\n",
              "      <th>trend</th>\n",
              "      <th>yhat_lower</th>\n",
              "      <th>yhat_upper</th>\n",
              "      <th>trend_lower</th>\n",
              "      <th>trend_upper</th>\n",
              "      <th>additive_terms</th>\n",
              "      <th>additive_terms_lower</th>\n",
              "      <th>additive_terms_upper</th>\n",
              "      <th>weekly</th>\n",
              "      <th>weekly_lower</th>\n",
              "      <th>weekly_upper</th>\n",
              "      <th>yearly</th>\n",
              "      <th>yearly_lower</th>\n",
              "      <th>yearly_upper</th>\n",
              "      <th>multiplicative_terms</th>\n",
              "      <th>multiplicative_terms_lower</th>\n",
              "      <th>multiplicative_terms_upper</th>\n",
              "      <th>yhat</th>\n",
              "    </tr>\n",
              "  </thead>\n",
              "  <tbody>\n",
              "    <tr>\n",
              "      <th>168</th>\n",
              "      <td>2013-06-09</td>\n",
              "      <td>4.782741e+07</td>\n",
              "      <td>4.475025e+07</td>\n",
              "      <td>5.497563e+07</td>\n",
              "      <td>4.782736e+07</td>\n",
              "      <td>4.782745e+07</td>\n",
              "      <td>1.853452e+06</td>\n",
              "      <td>1.853452e+06</td>\n",
              "      <td>1.853452e+06</td>\n",
              "      <td>1.635780e+06</td>\n",
              "      <td>1.635780e+06</td>\n",
              "      <td>1.635780e+06</td>\n",
              "      <td>2.176716e+05</td>\n",
              "      <td>2.176716e+05</td>\n",
              "      <td>2.176716e+05</td>\n",
              "      <td>0.0</td>\n",
              "      <td>0.0</td>\n",
              "      <td>0.0</td>\n",
              "      <td>4.968086e+07</td>\n",
              "    </tr>\n",
              "    <tr>\n",
              "      <th>169</th>\n",
              "      <td>2013-06-16</td>\n",
              "      <td>4.783023e+07</td>\n",
              "      <td>4.486959e+07</td>\n",
              "      <td>5.549660e+07</td>\n",
              "      <td>4.783018e+07</td>\n",
              "      <td>4.783027e+07</td>\n",
              "      <td>2.285975e+06</td>\n",
              "      <td>2.285975e+06</td>\n",
              "      <td>2.285975e+06</td>\n",
              "      <td>1.635780e+06</td>\n",
              "      <td>1.635780e+06</td>\n",
              "      <td>1.635780e+06</td>\n",
              "      <td>6.501946e+05</td>\n",
              "      <td>6.501946e+05</td>\n",
              "      <td>6.501946e+05</td>\n",
              "      <td>0.0</td>\n",
              "      <td>0.0</td>\n",
              "      <td>0.0</td>\n",
              "      <td>5.011620e+07</td>\n",
              "    </tr>\n",
              "    <tr>\n",
              "      <th>170</th>\n",
              "      <td>2013-06-23</td>\n",
              "      <td>4.783305e+07</td>\n",
              "      <td>4.483837e+07</td>\n",
              "      <td>5.534150e+07</td>\n",
              "      <td>4.783300e+07</td>\n",
              "      <td>4.783310e+07</td>\n",
              "      <td>2.090921e+06</td>\n",
              "      <td>2.090921e+06</td>\n",
              "      <td>2.090921e+06</td>\n",
              "      <td>1.635780e+06</td>\n",
              "      <td>1.635780e+06</td>\n",
              "      <td>1.635780e+06</td>\n",
              "      <td>4.551410e+05</td>\n",
              "      <td>4.551410e+05</td>\n",
              "      <td>4.551410e+05</td>\n",
              "      <td>0.0</td>\n",
              "      <td>0.0</td>\n",
              "      <td>0.0</td>\n",
              "      <td>4.992397e+07</td>\n",
              "    </tr>\n",
              "    <tr>\n",
              "      <th>171</th>\n",
              "      <td>2013-06-30</td>\n",
              "      <td>4.783587e+07</td>\n",
              "      <td>4.314084e+07</td>\n",
              "      <td>5.382721e+07</td>\n",
              "      <td>4.783582e+07</td>\n",
              "      <td>4.783592e+07</td>\n",
              "      <td>8.578526e+05</td>\n",
              "      <td>8.578526e+05</td>\n",
              "      <td>8.578526e+05</td>\n",
              "      <td>1.635780e+06</td>\n",
              "      <td>1.635780e+06</td>\n",
              "      <td>1.635780e+06</td>\n",
              "      <td>-7.779275e+05</td>\n",
              "      <td>-7.779275e+05</td>\n",
              "      <td>-7.779275e+05</td>\n",
              "      <td>0.0</td>\n",
              "      <td>0.0</td>\n",
              "      <td>0.0</td>\n",
              "      <td>4.869372e+07</td>\n",
              "    </tr>\n",
              "    <tr>\n",
              "      <th>172</th>\n",
              "      <td>2013-07-07</td>\n",
              "      <td>4.783869e+07</td>\n",
              "      <td>4.166913e+07</td>\n",
              "      <td>5.240280e+07</td>\n",
              "      <td>4.783864e+07</td>\n",
              "      <td>4.783874e+07</td>\n",
              "      <td>-4.809759e+05</td>\n",
              "      <td>-4.809759e+05</td>\n",
              "      <td>-4.809759e+05</td>\n",
              "      <td>1.635780e+06</td>\n",
              "      <td>1.635780e+06</td>\n",
              "      <td>1.635780e+06</td>\n",
              "      <td>-2.116756e+06</td>\n",
              "      <td>-2.116756e+06</td>\n",
              "      <td>-2.116756e+06</td>\n",
              "      <td>0.0</td>\n",
              "      <td>0.0</td>\n",
              "      <td>0.0</td>\n",
              "      <td>4.735772e+07</td>\n",
              "    </tr>\n",
              "  </tbody>\n",
              "</table>\n",
              "</div>\n",
              "      <button class=\"colab-df-convert\" onclick=\"convertToInteractive('df-24b426d6-0e0f-4915-a7ea-891867d7c914')\"\n",
              "              title=\"Convert this dataframe to an interactive table.\"\n",
              "              style=\"display:none;\">\n",
              "        \n",
              "  <svg xmlns=\"http://www.w3.org/2000/svg\" height=\"24px\"viewBox=\"0 0 24 24\"\n",
              "       width=\"24px\">\n",
              "    <path d=\"M0 0h24v24H0V0z\" fill=\"none\"/>\n",
              "    <path d=\"M18.56 5.44l.94 2.06.94-2.06 2.06-.94-2.06-.94-.94-2.06-.94 2.06-2.06.94zm-11 1L8.5 8.5l.94-2.06 2.06-.94-2.06-.94L8.5 2.5l-.94 2.06-2.06.94zm10 10l.94 2.06.94-2.06 2.06-.94-2.06-.94-.94-2.06-.94 2.06-2.06.94z\"/><path d=\"M17.41 7.96l-1.37-1.37c-.4-.4-.92-.59-1.43-.59-.52 0-1.04.2-1.43.59L10.3 9.45l-7.72 7.72c-.78.78-.78 2.05 0 2.83L4 21.41c.39.39.9.59 1.41.59.51 0 1.02-.2 1.41-.59l7.78-7.78 2.81-2.81c.8-.78.8-2.07 0-2.86zM5.41 20L4 18.59l7.72-7.72 1.47 1.35L5.41 20z\"/>\n",
              "  </svg>\n",
              "      </button>\n",
              "      \n",
              "  <style>\n",
              "    .colab-df-container {\n",
              "      display:flex;\n",
              "      flex-wrap:wrap;\n",
              "      gap: 12px;\n",
              "    }\n",
              "\n",
              "    .colab-df-convert {\n",
              "      background-color: #E8F0FE;\n",
              "      border: none;\n",
              "      border-radius: 50%;\n",
              "      cursor: pointer;\n",
              "      display: none;\n",
              "      fill: #1967D2;\n",
              "      height: 32px;\n",
              "      padding: 0 0 0 0;\n",
              "      width: 32px;\n",
              "    }\n",
              "\n",
              "    .colab-df-convert:hover {\n",
              "      background-color: #E2EBFA;\n",
              "      box-shadow: 0px 1px 2px rgba(60, 64, 67, 0.3), 0px 1px 3px 1px rgba(60, 64, 67, 0.15);\n",
              "      fill: #174EA6;\n",
              "    }\n",
              "\n",
              "    [theme=dark] .colab-df-convert {\n",
              "      background-color: #3B4455;\n",
              "      fill: #D2E3FC;\n",
              "    }\n",
              "\n",
              "    [theme=dark] .colab-df-convert:hover {\n",
              "      background-color: #434B5C;\n",
              "      box-shadow: 0px 1px 3px 1px rgba(0, 0, 0, 0.15);\n",
              "      filter: drop-shadow(0px 1px 2px rgba(0, 0, 0, 0.3));\n",
              "      fill: #FFFFFF;\n",
              "    }\n",
              "  </style>\n",
              "\n",
              "      <script>\n",
              "        const buttonEl =\n",
              "          document.querySelector('#df-24b426d6-0e0f-4915-a7ea-891867d7c914 button.colab-df-convert');\n",
              "        buttonEl.style.display =\n",
              "          google.colab.kernel.accessAllowed ? 'block' : 'none';\n",
              "\n",
              "        async function convertToInteractive(key) {\n",
              "          const element = document.querySelector('#df-24b426d6-0e0f-4915-a7ea-891867d7c914');\n",
              "          const dataTable =\n",
              "            await google.colab.kernel.invokeFunction('convertToInteractive',\n",
              "                                                     [key], {});\n",
              "          if (!dataTable) return;\n",
              "\n",
              "          const docLinkHtml = 'Like what you see? Visit the ' +\n",
              "            '<a target=\"_blank\" href=https://colab.research.google.com/notebooks/data_table.ipynb>data table notebook</a>'\n",
              "            + ' to learn more about interactive tables.';\n",
              "          element.innerHTML = '';\n",
              "          dataTable['output_type'] = 'display_data';\n",
              "          await google.colab.output.renderOutput(dataTable, element);\n",
              "          const docLink = document.createElement('div');\n",
              "          docLink.innerHTML = docLinkHtml;\n",
              "          element.appendChild(docLink);\n",
              "        }\n",
              "      </script>\n",
              "    </div>\n",
              "  </div>\n",
              "  "
            ]
          },
          "metadata": {},
          "execution_count": 186
        }
      ],
      "source": [
        "previsao.tail()"
      ]
    },
    {
      "cell_type": "code",
      "execution_count": null,
      "metadata": {
        "colab": {
          "base_uri": "https://localhost:8080/",
          "height": 441
        },
        "id": "_3CRIHpecUNs",
        "outputId": "dd058d16-117a-4d86-802b-6fa195cd2836"
      },
      "outputs": [
        {
          "output_type": "display_data",
          "data": {
            "text/plain": [
              "<Figure size 720x432 with 1 Axes>"
            ],
            "image/png": "[encoded data removed]"
          },
          "metadata": {}
        }
      ],
      "source": [
        "# Fazendo grafico da previsao\n",
        "grafico_previsao_Prophet = modelo.plot(previsao)\n",
        "grafico_previsao_Prophet.show()"
      ]
    },
    {
      "cell_type": "code",
      "execution_count": null,
      "metadata": {
        "colab": {
          "base_uri": "https://localhost:8080/",
          "height": 657
        },
        "id": "oSxfjDR29XAm",
        "outputId": "e0dfd670-f20b-40a3-ba0b-5824ba9ea932"
      },
      "outputs": [
        {
          "output_type": "display_data",
          "data": {
            "text/plain": [
              "<Figure size 648x648 with 3 Axes>"
            ],
            "image/png": "[encoded data removed]"
          },
          "metadata": {}
        }
      ],
      "source": [
        "fig2 = modelo.plot_components(previsao)"
      ]
    },
    {
      "cell_type": "code",
      "source": [],
      "metadata": {
        "id": "KXbX9vrkICGp"
      },
      "execution_count": null,
      "outputs": []
    },
    {
      "cell_type": "markdown",
      "source": [
        "\n",
        "Com esses gráficos conseguimos ver a tendência de crescimento da série"
      ],
      "metadata": {
        "id": "i42O9BywJ9vf"
      }
    }
  ],
  "metadata": {
    "colab": {
      "collapsed_sections": [
        "STcyxJ34QIpz",
        "2Q7EuNSRlj2Q"
      ],
      "provenance": [],
      "authorship_tag": "ABX9TyNC6brVS4VM9CrnfTsn4c83",
      "include_colab_link": true
    },
    "kernelspec": {
      "display_name": "Python 3",
      "name": "python3"
    },
    "language_info": {
      "name": "python"
    }
  },
  "nbformat": 4,
  "nbformat_minor": 0
}